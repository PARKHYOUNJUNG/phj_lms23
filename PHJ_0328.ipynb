{
  "nbformat": 4,
  "nbformat_minor": 0,
  "metadata": {
    "colab": {
      "provenance": [],
      "toc_visible": true,
      "authorship_tag": "ABX9TyP1syubL+oaBzUPFr/Ft5WS",
      "include_colab_link": true
    },
    "kernelspec": {
      "name": "python3",
      "display_name": "Python 3"
    },
    "language_info": {
      "name": "python"
    }
  },
  "cells": [
    {
      "cell_type": "markdown",
      "metadata": {
        "id": "view-in-github",
        "colab_type": "text"
      },
      "source": [
        "<a href=\"https://colab.research.google.com/github/PARKHYOUNJUNG/phj_lms23/blob/main/PHJ_0328.ipynb\" target=\"_parent\"><img src=\"https://colab.research.google.com/assets/colab-badge.svg\" alt=\"Open In Colab\"/></a>"
      ]
    },
    {
      "cell_type": "markdown",
      "source": [
        "# **2일차 수업**"
      ],
      "metadata": {
        "id": "MbctMqOD286Z"
      }
    },
    {
      "cell_type": "markdown",
      "source": [
        "## 2.3.1.컨테이너 타입"
      ],
      "metadata": {
        "id": "pb_0cGVS7fTI"
      }
    },
    {
      "cell_type": "code",
      "execution_count": 1,
      "metadata": {
        "id": "w4bqU2I12HNz"
      },
      "outputs": [],
      "source": [
        "score_1 = 80\n",
        "score_2 = 90\n",
        "score_3 = 70\n",
        "score_4 = 65\n",
        "score_5 = 100\n",
        "score_6 = 95\n",
        "score_7 = 90\n",
        "score_8 = 80\n",
        "score_9 = 75\n",
        "score_10 = 80"
      ]
    },
    {
      "cell_type": "markdown",
      "source": [
        "### 2.3.2 리스트"
      ],
      "metadata": {
        "id": "Jo5ixlfd9oW_"
      }
    },
    {
      "cell_type": "code",
      "source": [
        "fruit_list = [\"apple\", \"banana\", \"orange\"]\n",
        "fruit_list"
      ],
      "metadata": {
        "colab": {
          "base_uri": "https://localhost:8080/"
        },
        "id": "SFxB4U-i_2y0",
        "outputId": "203b50c8-cb6e-4c96-e28e-b6ae1cce6f0d"
      },
      "execution_count": 4,
      "outputs": [
        {
          "output_type": "execute_result",
          "data": {
            "text/plain": [
              "['apple', 'banana', 'orange']"
            ]
          },
          "metadata": {},
          "execution_count": 4
        }
      ]
    },
    {
      "cell_type": "code",
      "source": [
        "fruit_list[0]"
      ],
      "metadata": {
        "colab": {
          "base_uri": "https://localhost:8080/",
          "height": 35
        },
        "id": "YiUXJuw5AgWr",
        "outputId": "31da566f-0638-42e4-d791-ad857dc2eced"
      },
      "execution_count": 5,
      "outputs": [
        {
          "output_type": "execute_result",
          "data": {
            "text/plain": [
              "'apple'"
            ],
            "application/vnd.google.colaboratory.intrinsic+json": {
              "type": "string"
            }
          },
          "metadata": {},
          "execution_count": 5
        }
      ]
    },
    {
      "cell_type": "code",
      "source": [
        "fruit_list[-1]"
      ],
      "metadata": {
        "colab": {
          "base_uri": "https://localhost:8080/",
          "height": 35
        },
        "id": "pGRO03kzAlJM",
        "outputId": "3abab8a0-5388-4c1d-ed56-1bf01fc4d19b"
      },
      "execution_count": 7,
      "outputs": [
        {
          "output_type": "execute_result",
          "data": {
            "text/plain": [
              "'orange'"
            ],
            "application/vnd.google.colaboratory.intrinsic+json": {
              "type": "string"
            }
          },
          "metadata": {},
          "execution_count": 7
        }
      ]
    },
    {
      "cell_type": "code",
      "source": [
        "fruit_list[1:2]"
      ],
      "metadata": {
        "colab": {
          "base_uri": "https://localhost:8080/"
        },
        "id": "F-bmTPchBYDN",
        "outputId": "70131da9-bab0-4d1b-8052-d0be68dda5a6"
      },
      "execution_count": 8,
      "outputs": [
        {
          "output_type": "execute_result",
          "data": {
            "text/plain": [
              "['banana']"
            ]
          },
          "metadata": {},
          "execution_count": 8
        }
      ]
    },
    {
      "cell_type": "code",
      "source": [
        "fruit_list[0] = \"kiwi\""
      ],
      "metadata": {
        "id": "eaArASaSBcgq"
      },
      "execution_count": 9,
      "outputs": []
    },
    {
      "cell_type": "code",
      "source": [
        "fruit_list"
      ],
      "metadata": {
        "colab": {
          "base_uri": "https://localhost:8080/"
        },
        "id": "5WzRECatBs5x",
        "outputId": "958f916e-931b-4ab6-c385-629df67ce258"
      },
      "execution_count": 10,
      "outputs": [
        {
          "output_type": "execute_result",
          "data": {
            "text/plain": [
              "['kiwi', 'banana', 'orange']"
            ]
          },
          "metadata": {},
          "execution_count": 10
        }
      ]
    },
    {
      "cell_type": "code",
      "source": [
        "fruit_list = ['apple', 'strawberry', 'blueberry'] \n",
        "fruit_list"
      ],
      "metadata": {
        "colab": {
          "base_uri": "https://localhost:8080/"
        },
        "id": "g-py27u5BuVL",
        "outputId": "0a9df2db-fff1-4c07-c389-d028affdc4af"
      },
      "execution_count": 15,
      "outputs": [
        {
          "output_type": "execute_result",
          "data": {
            "text/plain": [
              "['apple', 'strawberry', 'blueberry']"
            ]
          },
          "metadata": {},
          "execution_count": 15
        }
      ]
    },
    {
      "cell_type": "code",
      "source": [
        "fruit_list.insert(2,\"mango\")\n",
        "fruit_list"
      ],
      "metadata": {
        "colab": {
          "base_uri": "https://localhost:8080/"
        },
        "id": "UtXj14uYB3bb",
        "outputId": "48912453-ee35-4699-d238-5197f89f2747"
      },
      "execution_count": 16,
      "outputs": [
        {
          "output_type": "execute_result",
          "data": {
            "text/plain": [
              "['apple', 'strawberry', 'mango', 'blueberry']"
            ]
          },
          "metadata": {},
          "execution_count": 16
        }
      ]
    },
    {
      "cell_type": "code",
      "source": [
        "fruit_list.append(\"watermelon\")\n",
        "fruit_list"
      ],
      "metadata": {
        "colab": {
          "base_uri": "https://localhost:8080/"
        },
        "id": "h4Jo8dfgB_qR",
        "outputId": "d117e679-b85a-47af-a7b5-d4d340c4e45a"
      },
      "execution_count": 17,
      "outputs": [
        {
          "output_type": "execute_result",
          "data": {
            "text/plain": [
              "['apple', 'strawberry', 'mango', 'blueberry', 'watermelon']"
            ]
          },
          "metadata": {},
          "execution_count": 17
        }
      ]
    },
    {
      "cell_type": "code",
      "source": [
        "vegetable_list=[\"carrot\", \"tomato\", \"onion\"]\n",
        "fruit_list.extend(vegetable_list)\n",
        "fruit_list"
      ],
      "metadata": {
        "colab": {
          "base_uri": "https://localhost:8080/"
        },
        "id": "WM2wU9haCMcx",
        "outputId": "5023e617-aaa8-447c-dd72-266724333eec"
      },
      "execution_count": 18,
      "outputs": [
        {
          "output_type": "execute_result",
          "data": {
            "text/plain": [
              "['apple',\n",
              " 'strawberry',\n",
              " 'mango',\n",
              " 'blueberry',\n",
              " 'watermelon',\n",
              " 'carrot',\n",
              " 'tomato',\n",
              " 'onion']"
            ]
          },
          "metadata": {},
          "execution_count": 18
        }
      ]
    },
    {
      "cell_type": "code",
      "source": [
        "fruit_list=['apple', 'banana', 'orange'] \n",
        "del fruit_list[-1]\n",
        "fruit_list"
      ],
      "metadata": {
        "colab": {
          "base_uri": "https://localhost:8080/"
        },
        "id": "AkOXkbxECfc0",
        "outputId": "6ae2e072-35a8-4803-d905-0b75538b18a1"
      },
      "execution_count": 19,
      "outputs": [
        {
          "output_type": "execute_result",
          "data": {
            "text/plain": [
              "['apple', 'banana']"
            ]
          },
          "metadata": {},
          "execution_count": 19
        }
      ]
    },
    {
      "cell_type": "markdown",
      "source": [
        "### 2.3.3 튜플"
      ],
      "metadata": {
        "id": "-0iEjUtDDa5C"
      }
    },
    {
      "cell_type": "code",
      "source": [
        "fruit_tuple = (\"apple\", \"banana\", \"orange\")\n",
        "fruit_tuple[1]"
      ],
      "metadata": {
        "colab": {
          "base_uri": "https://localhost:8080/",
          "height": 35
        },
        "id": "Ai80BeeiC3pm",
        "outputId": "98741657-ab5c-442c-8965-a161c1a50127"
      },
      "execution_count": 20,
      "outputs": [
        {
          "output_type": "execute_result",
          "data": {
            "text/plain": [
              "'banana'"
            ],
            "application/vnd.google.colaboratory.intrinsic+json": {
              "type": "string"
            }
          },
          "metadata": {},
          "execution_count": 20
        }
      ]
    },
    {
      "cell_type": "code",
      "source": [
        "fruit_list = list(fruit_tuple)"
      ],
      "metadata": {
        "id": "fKNohtJrDfgG"
      },
      "execution_count": 21,
      "outputs": []
    },
    {
      "cell_type": "code",
      "source": [
        "fruit_tuple"
      ],
      "metadata": {
        "colab": {
          "base_uri": "https://localhost:8080/"
        },
        "id": "-oQvq1DxD41P",
        "outputId": "dd8c78ff-7ff9-473a-bf8d-c41f4beec0be"
      },
      "execution_count": 23,
      "outputs": [
        {
          "output_type": "execute_result",
          "data": {
            "text/plain": [
              "('apple', 'banana', 'orange')"
            ]
          },
          "metadata": {},
          "execution_count": 23
        }
      ]
    },
    {
      "cell_type": "markdown",
      "source": [
        "### 2.3.4 세트"
      ],
      "metadata": {
        "id": "vDHFjsWTEaq3"
      }
    },
    {
      "cell_type": "code",
      "source": [
        "fruit_set = {\"apple\", \"banana\", \"orange\", \"apple\", \"banana\"}\n",
        "fruit_set"
      ],
      "metadata": {
        "colab": {
          "base_uri": "https://localhost:8080/"
        },
        "id": "DxmLvSt_D5zb",
        "outputId": "00bf8435-bf6f-4681-9afa-3320cfe9cdef"
      },
      "execution_count": 24,
      "outputs": [
        {
          "output_type": "execute_result",
          "data": {
            "text/plain": [
              "{'apple', 'banana', 'orange'}"
            ]
          },
          "metadata": {},
          "execution_count": 24
        }
      ]
    },
    {
      "cell_type": "markdown",
      "source": [
        "### 2.3.5 딕셔너리"
      ],
      "metadata": {
        "id": "yKq8Tu93FHhk"
      }
    },
    {
      "cell_type": "code",
      "source": [
        "my_dict = {\n",
        "    \"name\": \"Harry\",\n",
        "    \"age\": 27,\n",
        "    \"height\" : 190,\n",
        "    \"weight\" : 99.9    \n",
        "}\n",
        "my_dict"
      ],
      "metadata": {
        "colab": {
          "base_uri": "https://localhost:8080/"
        },
        "id": "2WIeD_xUEjLd",
        "outputId": "fd1b91a5-81c9-4726-8e79-bd70e02d6c53"
      },
      "execution_count": 25,
      "outputs": [
        {
          "output_type": "execute_result",
          "data": {
            "text/plain": [
              "{'name': 'Harry', 'age': 27, 'height': 190, 'weight': 99.9}"
            ]
          },
          "metadata": {},
          "execution_count": 25
        }
      ]
    },
    {
      "cell_type": "code",
      "source": [
        "my_dict.keys()"
      ],
      "metadata": {
        "colab": {
          "base_uri": "https://localhost:8080/"
        },
        "id": "UrA60gPIFFyz",
        "outputId": "1e4d2db4-6594-41a9-95c9-091804c63e33"
      },
      "execution_count": 26,
      "outputs": [
        {
          "output_type": "execute_result",
          "data": {
            "text/plain": [
              "dict_keys(['name', 'age', 'height', 'weight'])"
            ]
          },
          "metadata": {},
          "execution_count": 26
        }
      ]
    },
    {
      "cell_type": "code",
      "source": [
        "my_dict[\"age\"]"
      ],
      "metadata": {
        "colab": {
          "base_uri": "https://localhost:8080/"
        },
        "id": "n5xfOlMcFSmO",
        "outputId": "633cd0b2-7fe1-46f1-affe-b5a0afcb4179"
      },
      "execution_count": 27,
      "outputs": [
        {
          "output_type": "execute_result",
          "data": {
            "text/plain": [
              "27"
            ]
          },
          "metadata": {},
          "execution_count": 27
        }
      ]
    },
    {
      "cell_type": "code",
      "source": [
        "my_dict.update({\"address\": \"Busan\"})\n",
        "my_dict"
      ],
      "metadata": {
        "colab": {
          "base_uri": "https://localhost:8080/"
        },
        "id": "e5GJ2OhbFV11",
        "outputId": "d7621de6-1bd1-43a6-f544-34896d5a926d"
      },
      "execution_count": 30,
      "outputs": [
        {
          "output_type": "execute_result",
          "data": {
            "text/plain": [
              "{'name': 'Harry', 'age': 27, 'height': 190, 'weight': 99.9, 'address': 'Busan'}"
            ]
          },
          "metadata": {},
          "execution_count": 30
        }
      ]
    },
    {
      "cell_type": "code",
      "source": [],
      "metadata": {
        "id": "In2OUszQFoVc"
      },
      "execution_count": null,
      "outputs": []
    }
  ]
}