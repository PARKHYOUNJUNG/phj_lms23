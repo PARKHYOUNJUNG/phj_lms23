{
  "nbformat": 4,
  "nbformat_minor": 0,
  "metadata": {
    "colab": {
      "provenance": [],
      "toc_visible": true,
      "authorship_tag": "ABX9TyPDEhSnx99KpmI7ON8OSo2h",
      "include_colab_link": true
    },
    "kernelspec": {
      "name": "python3",
      "display_name": "Python 3"
    },
    "language_info": {
      "name": "python"
    }
  },
  "cells": [
    {
      "cell_type": "markdown",
      "metadata": {
        "id": "view-in-github",
        "colab_type": "text"
      },
      "source": [
        "<a href=\"https://colab.research.google.com/github/PARKHYOUNJUNG/phj_lms23/blob/main/PHJ_0328.ipynb\" target=\"_parent\"><img src=\"https://colab.research.google.com/assets/colab-badge.svg\" alt=\"Open In Colab\"/></a>"
      ]
    },
    {
      "cell_type": "markdown",
      "source": [
        "# **2일차 수업**"
      ],
      "metadata": {
        "id": "MbctMqOD286Z"
      }
    },
    {
      "cell_type": "markdown",
      "source": [
        "## 2.3.1.컨테이너 타입"
      ],
      "metadata": {
        "id": "pb_0cGVS7fTI"
      }
    },
    {
      "cell_type": "code",
      "execution_count": null,
      "metadata": {
        "id": "w4bqU2I12HNz"
      },
      "outputs": [],
      "source": []
    }
  ]
}