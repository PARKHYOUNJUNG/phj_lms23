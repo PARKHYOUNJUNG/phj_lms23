{
  "nbformat": 4,
  "nbformat_minor": 0,
  "metadata": {
    "colab": {
      "provenance": [],
      "toc_visible": true,
      "authorship_tag": "ABX9TyOd8YfLtKrLq81XNabg8x5F",
      "include_colab_link": true
    },
    "kernelspec": {
      "name": "python3",
      "display_name": "Python 3"
    },
    "language_info": {
      "name": "python"
    }
  },
  "cells": [
    {
      "cell_type": "markdown",
      "metadata": {
        "id": "view-in-github",
        "colab_type": "text"
      },
      "source": [
        "<a href=\"https://colab.research.google.com/github/PARKHYOUNJUNG/phj_lms23/blob/main/PHJ_3days.ipynb\" target=\"_parent\"><img src=\"https://colab.research.google.com/assets/colab-badge.svg\" alt=\"Open In Colab\"/></a>"
      ]
    },
    {
      "cell_type": "markdown",
      "source": [
        "# 3. 3일차 과제"
      ],
      "metadata": {
        "id": "1bKq7eYri3--"
      }
    },
    {
      "cell_type": "markdown",
      "source": [
        "## 3.1.제어문"
      ],
      "metadata": {
        "id": "0qoatsvxi8kl"
      }
    },
    {
      "cell_type": "markdown",
      "source": [
        "### 3.1.1.IF 문"
      ],
      "metadata": {
        "id": "dvkIXx0Mi-4z"
      }
    },
    {
      "cell_type": "markdown",
      "source": [
        "Q1. 다음 코드의 결과값은 무엇일까?"
      ],
      "metadata": {
        "id": "D9J9KIdEjKXH"
      }
    },
    {
      "cell_type": "code",
      "execution_count": null,
      "metadata": {
        "colab": {
          "base_uri": "https://localhost:8080/"
        },
        "id": "Lv71eGiJit1p",
        "outputId": "210003e5-28c0-4f91-9e29-da7497aebc3c"
      },
      "outputs": [
        {
          "output_type": "stream",
          "name": "stdout",
          "text": [
            "shirt\n"
          ]
        }
      ],
      "source": [
        "a = \"Life is too short, you need python\"\n",
        "\n",
        "if \"wife\" in a: print(\"wife\")\n",
        "\n",
        "elif \"python\" in a and \"you\" not in a: print(\"python\")\n",
        "\n",
        "elif \"shirt\" not in a:print(\"shirt\")\n",
        "\n",
        "elif \"need\" in a: print(\"need\")\n",
        "\n",
        "else: print(\"none\")"
      ]
    },
    {
      "cell_type": "markdown",
      "source": [
        "### 3.1.2. While 문"
      ],
      "metadata": {
        "id": "EuToTFlajiPd"
      }
    },
    {
      "cell_type": "markdown",
      "source": [
        "Q1. while문을 이용하여 아래와 같이 별(*)을 표시하는 프로그램을 작성해보자"
      ],
      "metadata": {
        "id": "Wxw1DAO_jnSV"
      }
    },
    {
      "cell_type": "code",
      "source": [
        "i=0\n",
        "while True:\n",
        "  if i < 5:\n",
        "    i=i+1\n",
        "    print(\"*\"*i)\n",
        "  else:\n",
        "    break"
      ],
      "metadata": {
        "colab": {
          "base_uri": "https://localhost:8080/"
        },
        "id": "mhuB-B6KjS1c",
        "outputId": "1b1e9fd0-b28b-48d7-99a7-77dc86850e51"
      },
      "execution_count": null,
      "outputs": [
        {
          "output_type": "stream",
          "name": "stdout",
          "text": [
            "*\n",
            "**\n",
            "***\n",
            "****\n",
            "*****\n"
          ]
        }
      ]
    },
    {
      "cell_type": "markdown",
      "source": [
        "### 3.1.3. For 문"
      ],
      "metadata": {
        "id": "pZmL2N0PkQVj"
      }
    },
    {
      "cell_type": "markdown",
      "source": [
        "Q1. A학급에 총 10명의 학생이 있다. 이 학생들의 중간고사 점수는 다음과 같다\n",
        "\n",
        "[70, 60, 55, 75, 95, 90, 80, 80, 85, 100]\n",
        "\n",
        "for문을 이용하여 A학급의 평균 점수를 구해 보자"
      ],
      "metadata": {
        "id": "1AT5LD1xkX6f"
      }
    },
    {
      "cell_type": "code",
      "source": [
        "A = [70, 60, 55, 75, 95, 90, 80, 80, 85, 100]\n",
        "i=0\n",
        "sum=0\n",
        "for i in range(len(A)):\n",
        "  sum = sum+A[i]\n",
        "  i = i+1\n",
        "print(sum/len(A))"
      ],
      "metadata": {
        "colab": {
          "base_uri": "https://localhost:8080/"
        },
        "id": "KUcptUOskMNy",
        "outputId": "db1baa9e-e8ed-433c-8bf4-f0a6bb4a307e"
      },
      "execution_count": null,
      "outputs": [
        {
          "output_type": "stream",
          "name": "stdout",
          "text": [
            "79.0\n"
          ]
        }
      ]
    },
    {
      "cell_type": "markdown",
      "source": [
        "## 3.2. 함수"
      ],
      "metadata": {
        "id": "Fqhm5tKSmbwW"
      }
    },
    {
      "cell_type": "markdown",
      "source": [
        "### 3.2.1. 피보나치 수열"
      ],
      "metadata": {
        "id": "ZdBsY8i4mgc2"
      }
    },
    {
      "cell_type": "markdown",
      "source": [
        "Q1. 첫번째 항의 값이 0이고 두 번째 항의 값이 1일때, 이후에 이어지는 항들은 이전의 두 항을 더한 값으로 이루어지는 수열을 피보나치 수열이라고 한다.\n",
        "\n",
        "0, 1, 1, 2, 3, 5, 8, 13, ...\n",
        "\n",
        "입력을 정수n으로 받았을 때, n 이하까지의 피보나치 수열을 출력하는 함수를 작성해보자"
      ],
      "metadata": {
        "id": "PdSHoeYEmlNC"
      }
    },
    {
      "cell_type": "code",
      "source": [
        "def fib(n):\n",
        "  if i==0:\n",
        "    B.insert(0,0)\n",
        "  elif i==1:\n",
        "    B.insert(1,1)\n",
        "  else:\n",
        "    B.insert(i,B[i-2]+B[i-1])\n",
        "  return B"
      ],
      "metadata": {
        "id": "yyr5r_-opGUf"
      },
      "execution_count": 66,
      "outputs": []
    },
    {
      "cell_type": "code",
      "source": [
        "B=[]\n",
        "i=0\n",
        "for i in range(10):\n",
        "  print(fib(i))\n",
        "  i=i+1"
      ],
      "metadata": {
        "colab": {
          "base_uri": "https://localhost:8080/"
        },
        "id": "vLJHGw4rklG_",
        "outputId": "e1f4956e-fc1f-4678-decf-ab83d708d7a9"
      },
      "execution_count": 71,
      "outputs": [
        {
          "output_type": "stream",
          "name": "stdout",
          "text": [
            "[0]\n",
            "[0, 1]\n",
            "[0, 1, 1]\n",
            "[0, 1, 1, 2]\n",
            "[0, 1, 1, 2, 3]\n",
            "[0, 1, 1, 2, 3, 5]\n",
            "[0, 1, 1, 2, 3, 5, 8]\n",
            "[0, 1, 1, 2, 3, 5, 8, 13]\n",
            "[0, 1, 1, 2, 3, 5, 8, 13, 21]\n",
            "[0, 1, 1, 2, 3, 5, 8, 13, 21, 34]\n"
          ]
        }
      ]
    },
    {
      "cell_type": "markdown",
      "source": [
        "### 3.2.2. 문자열 압축하기"
      ],
      "metadata": {
        "id": "_tHUSDVwzBr-"
      }
    },
    {
      "cell_type": "markdown",
      "source": [
        "Q1. 문자열을 입력 받아 같은 문자가 연속적으로 반복되는 경우에 그 반복 횟수를 표시해 문자열을 압축하여 표시해 보자"
      ],
      "metadata": {
        "id": "K-hUOQauzIyb"
      }
    },
    {
      "cell_type": "code",
      "source": [
        "def compress_string(s):\n",
        "  set_str = set(s)\n",
        "  li_srt = list(set_str)\n",
        "  result = \n",
        "  return result"
      ],
      "metadata": {
        "id": "XN2y40TBp7zM"
      },
      "execution_count": 72,
      "outputs": []
    },
    {
      "cell_type": "code",
      "source": [],
      "metadata": {
        "id": "R10XLIgQz8nf"
      },
      "execution_count": null,
      "outputs": []
    },
    {
      "cell_type": "code",
      "source": [
        "print(compress_string(\"aaabbcccccca\"))"
      ],
      "metadata": {
        "colab": {
          "base_uri": "https://localhost:8080/",
          "height": 246
        },
        "id": "4dsBqdkszP1R",
        "outputId": "17376f48-012b-409d-e688-32d198df7d61"
      },
      "execution_count": 73,
      "outputs": [
        {
          "output_type": "error",
          "ename": "NameError",
          "evalue": "ignored",
          "traceback": [
            "\u001b[0;31m---------------------------------------------------------------------------\u001b[0m",
            "\u001b[0;31mNameError\u001b[0m                                 Traceback (most recent call last)",
            "\u001b[0;32m<ipython-input-73-a9dac7380a68>\u001b[0m in \u001b[0;36m<cell line: 1>\u001b[0;34m()\u001b[0m\n\u001b[0;32m----> 1\u001b[0;31m \u001b[0mprint\u001b[0m\u001b[0;34m(\u001b[0m\u001b[0mcompress_string\u001b[0m\u001b[0;34m(\u001b[0m\u001b[0;34m\"aaabbcccccca\"\u001b[0m\u001b[0;34m)\u001b[0m\u001b[0;34m)\u001b[0m\u001b[0;34m\u001b[0m\u001b[0;34m\u001b[0m\u001b[0m\n\u001b[0m",
            "\u001b[0;32m<ipython-input-72-08b877647dcb>\u001b[0m in \u001b[0;36mcompress_string\u001b[0;34m(s)\u001b[0m\n\u001b[1;32m      1\u001b[0m \u001b[0;32mdef\u001b[0m \u001b[0mcompress_string\u001b[0m\u001b[0;34m(\u001b[0m\u001b[0ms\u001b[0m\u001b[0;34m)\u001b[0m\u001b[0;34m:\u001b[0m\u001b[0;34m\u001b[0m\u001b[0;34m\u001b[0m\u001b[0m\n\u001b[0;32m----> 2\u001b[0;31m   \u001b[0;32mreturn\u001b[0m \u001b[0mresult\u001b[0m\u001b[0;34m\u001b[0m\u001b[0;34m\u001b[0m\u001b[0m\n\u001b[0m",
            "\u001b[0;31mNameError\u001b[0m: name 'result' is not defined"
          ]
        }
      ]
    },
    {
      "cell_type": "code",
      "source": [],
      "metadata": {
        "id": "8hE2qextzQiI"
      },
      "execution_count": null,
      "outputs": []
    }
  ]
}