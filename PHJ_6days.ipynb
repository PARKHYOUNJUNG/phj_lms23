{
  "cells": [
    {
      "cell_type": "markdown",
      "metadata": {
        "id": "view-in-github",
        "colab_type": "text"
      },
      "source": [
        "<a href=\"https://colab.research.google.com/github/PARKHYOUNJUNG/phj_lms23/blob/main/PHJ_6days.ipynb\" target=\"_parent\"><img src=\"https://colab.research.google.com/assets/colab-badge.svg\" alt=\"Open In Colab\"/></a>"
      ]
    },
    {
      "cell_type": "markdown",
      "metadata": {
        "id": "rKiHkzUc7VOV"
      },
      "source": [
        "# 과제 1\n",
        "## Q1. \n",
        "\n",
        "\n",
        "<div class=\"alert alert-success\">\n",
        "[문제1]     \n",
        "    \n",
        "원소가 1부터 5까지인 배열 arr이 있다. 각각의 요소의 루트를 씌운 값의 총합을 구하시오. \n",
        "</div>\n",
        "\n",
        "------------\n",
        "[힌트]  \n",
        "np.arange(1, 6)  \n",
        "list = [1,2,3,4,5]   \n",
        "8.382332347441762  "
      ]
    },
    {
      "cell_type": "code",
      "execution_count": 44,
      "metadata": {
        "id": "aOW6jRjDTt__",
        "colab": {
          "base_uri": "https://localhost:8080/"
        },
        "outputId": "19e6943f-a06b-438a-f880-829d5fffa8b4"
      },
      "outputs": [
        {
          "output_type": "execute_result",
          "data": {
            "text/plain": [
              "array([-1.28781548+0.85789676j, -1.28781548-0.85789676j,\n",
              "        0.28781548+1.41609308j,  0.28781548-1.41609308j])"
            ]
          },
          "metadata": {},
          "execution_count": 44
        }
      ],
      "source": [
        "import numpy as np\n",
        "arr=np.arange(1,6)\n",
        "np.roots(arr)"
      ]
    },
    {
      "cell_type": "markdown",
      "metadata": {
        "id": "jfW2jQRL7VOf"
      },
      "source": [
        "## Q2. \n",
        "\n",
        "<div class=\"alert alert-success\">\n",
        "[문제2]\n",
        "    \n",
        "    \n",
        "다음과 같은 배열 arr2를 만드시오.  \n",
        "    \n",
        "    \n",
        "arr2 = ( arr의 총합, arr의 평균, arr의 최소값, arr의 최대값)  \n",
        "[15.  3.  1.  5.]  \n",
        "</div>"
      ]
    },
    {
      "cell_type": "code",
      "execution_count": 53,
      "metadata": {
        "id": "JTgNQNbFTuAA",
        "colab": {
          "base_uri": "https://localhost:8080/"
        },
        "outputId": "a5ac492b-f6ce-4b5b-865f-6997920a7828"
      },
      "outputs": [
        {
          "output_type": "execute_result",
          "data": {
            "text/plain": [
              "array([15.,  3.,  1.,  5.])"
            ]
          },
          "metadata": {},
          "execution_count": 53
        }
      ],
      "source": [
        "arr1 = [np.sum(arr), np.mean(arr), np.min(arr), np.max(arr)]\n",
        "arr2 = np.array(arr1)\n",
        "arr2.astype(float)\n",
        "arr2"
      ]
    },
    {
      "cell_type": "markdown",
      "metadata": {
        "id": "_Bvykj0V7VOh"
      },
      "source": [
        "## Q3.\n",
        "\n",
        "<div class=\"alert alert-success\">\n",
        "[문제3]\n",
        "    \n",
        "    \n",
        "arr2의 구조를 확인하고(shape),\n",
        "arr2를 전치(transpose)한 배열 arr3를 만드시오.\n",
        "</div>\n",
        "\n",
        "------------\n",
        "[힌트]  \n",
        "\n",
        "arr3의 출력 결과\n",
        "\n",
        "[[15.]  \n",
        " [ 3.]   \n",
        " [ 1.]  \n",
        " [ 5.]]"
      ]
    },
    {
      "cell_type": "code",
      "execution_count": 55,
      "metadata": {
        "id": "7To-1VpATuAB",
        "colab": {
          "base_uri": "https://localhost:8080/"
        },
        "outputId": "b3f9e441-8a77-4c51-925a-bd1755876a06"
      },
      "outputs": [
        {
          "output_type": "execute_result",
          "data": {
            "text/plain": [
              "array([[15.],\n",
              "       [ 3.],\n",
              "       [ 1.],\n",
              "       [ 5.]])"
            ]
          },
          "metadata": {},
          "execution_count": 55
        }
      ],
      "source": [
        "np.shape(arr2)\n",
        "arr3=arr2.reshape(4,1)\n",
        "arr3"
      ]
    },
    {
      "cell_type": "markdown",
      "metadata": {
        "id": "eAyEo1pr7VOj"
      },
      "source": [
        "\n",
        "## Q4. \n",
        "\n",
        "\n",
        "<div class=\"alert alert-success\">\n",
        "[문제4]\n",
        "    \n",
        "    \n",
        "arr2와 arr3를 행렬 곱 연산한 결과 값은 ? \n",
        "</div>\n",
        "\n",
        "[힌트]\n",
        "\n",
        "\n",
        " 260.\n",
        " \n",
        " \n",
        " 또는\n",
        " \n",
        " \n",
        " \n",
        " [[225.  45.  15.  75.]  \n",
        " [ 45.   9.   3.  15.]   \n",
        " [ 15.   3.   1.   5.]   \n",
        " [ 75.  15.   5.  25.]]   \n",
        "\n",
        "\n"
      ]
    },
    {
      "cell_type": "code",
      "execution_count": 56,
      "metadata": {
        "id": "R_rZcbN-TuAC",
        "colab": {
          "base_uri": "https://localhost:8080/"
        },
        "outputId": "0eae9371-3370-4382-91f5-66054e520bb2"
      },
      "outputs": [
        {
          "output_type": "execute_result",
          "data": {
            "text/plain": [
              "array([260.])"
            ]
          },
          "metadata": {},
          "execution_count": 56
        }
      ],
      "source": [
        "arr2.dot(arr3)"
      ]
    },
    {
      "cell_type": "markdown",
      "metadata": {
        "id": "XXD0gqZd7VOl"
      },
      "source": [
        "# 과제 2\n",
        "## Q5.\n",
        "\n",
        "\n",
        "<div class=\"alert alert-success\">\n",
        "[문제5]\n",
        "    \n",
        "    \n",
        "arange 함수를 이용하여 원소가 1부터 16까지인 배열 arr을 만드세요.\n",
        "</div>\n"
      ]
    },
    {
      "cell_type": "code",
      "execution_count": 59,
      "metadata": {
        "id": "8YdS8C_RTuAC",
        "colab": {
          "base_uri": "https://localhost:8080/"
        },
        "outputId": "d76e128c-be5e-4b01-ee5b-75b8653f4091"
      },
      "outputs": [
        {
          "output_type": "execute_result",
          "data": {
            "text/plain": [
              "array([ 1,  2,  3,  4,  5,  6,  7,  8,  9, 10, 11, 12, 13, 14, 15, 16])"
            ]
          },
          "metadata": {},
          "execution_count": 59
        }
      ],
      "source": [
        "arr=np.arange(1,17)\n",
        "arr"
      ]
    },
    {
      "cell_type": "markdown",
      "metadata": {
        "id": "xQoZlXT37VOo"
      },
      "source": [
        "## Q6. \n",
        "\n",
        "\n",
        "<div class=\"alert alert-success\">\n",
        "[문제6]\n",
        "    \n",
        "    \n",
        "arr 배열을 4행 4열로 형상 변경하세요.\n",
        "</div>\n"
      ]
    },
    {
      "cell_type": "code",
      "execution_count": 61,
      "metadata": {
        "id": "yqR3O1ddTuAD",
        "colab": {
          "base_uri": "https://localhost:8080/"
        },
        "outputId": "12d709d2-f457-43c1-dda6-e48a2e90ca1d"
      },
      "outputs": [
        {
          "output_type": "execute_result",
          "data": {
            "text/plain": [
              "array([[ 1,  2,  3,  4],\n",
              "       [ 5,  6,  7,  8],\n",
              "       [ 9, 10, 11, 12],\n",
              "       [13, 14, 15, 16]])"
            ]
          },
          "metadata": {},
          "execution_count": 61
        }
      ],
      "source": [
        "arr1=arr.reshape(4,4)\n",
        "arr1"
      ]
    },
    {
      "cell_type": "markdown",
      "metadata": {
        "id": "Z1Krivks7VOq"
      },
      "source": [
        "## Q7. \n",
        "\n",
        "\n",
        "<div class=\"alert alert-success\">\n",
        "[문제7]\n",
        "    \n",
        "arr에 대해 인덱싱과 슬라이싱을 이용하여 다음과 같은 배열 arr2, arr3를 만드시오.  \n",
        "arr2 :   \n",
        " [[2 3 4]  \n",
        " [6 7 8]]\n",
        "\n",
        "arr3 :   \n",
        " [[5 6 7]]  \n",
        "</div>\n",
        "\n",
        "\n"
      ]
    },
    {
      "cell_type": "code",
      "execution_count": 67,
      "metadata": {
        "id": "9Ewu4czMTuAD",
        "colab": {
          "base_uri": "https://localhost:8080/"
        },
        "outputId": "efbf16c1-feed-4608-82d9-4256bb464c59"
      },
      "outputs": [
        {
          "output_type": "stream",
          "name": "stdout",
          "text": [
            "[[2 3 4]\n",
            " [6 7 8]]\n",
            "[[5 6 7]]\n"
          ]
        }
      ],
      "source": [
        "arr2=arr1[:2,1:]\n",
        "arr3=arr1[1:2,:3]\n",
        "print(arr2)\n",
        "print(arr3)"
      ]
    },
    {
      "cell_type": "markdown",
      "metadata": {
        "id": "dvS0QSuF7VOs"
      },
      "source": [
        "## Q8.\n",
        "\n",
        "<div class=\"alert alert-success\">\n",
        "[문제8]\n",
        "    \n",
        "arr3를 전치(transpose)하세요.\n",
        "</div>\n",
        "\n",
        "-----------------\n",
        "[힌트]\n",
        "\n",
        "\n",
        "[[5]  \n",
        " [6]  \n",
        " [7]]  \n"
      ]
    },
    {
      "cell_type": "code",
      "execution_count": 71,
      "metadata": {
        "id": "cTBB34sUTuAE"
      },
      "outputs": [],
      "source": [
        "arr3=np.transpose(arr3)"
      ]
    },
    {
      "cell_type": "markdown",
      "metadata": {
        "id": "B7bP7F3i7VOv"
      },
      "source": [
        "## Q9.\n",
        "\n",
        "\n",
        "<div class=\"alert alert-success\">\n",
        "[문제9]\n",
        "    \n",
        "arr2와 arr3를 행렬 연산한 결과를 구하시오.\n",
        "</div>\n",
        "\n",
        "-----------------\n",
        "\n",
        "\n",
        "\n",
        "\n",
        "**[결과]**  \n",
        "[[ 56]  \n",
        " [128]]"
      ]
    },
    {
      "cell_type": "code",
      "execution_count": 73,
      "metadata": {
        "id": "fpKMMa6wTuAE",
        "colab": {
          "base_uri": "https://localhost:8080/"
        },
        "outputId": "cf73754a-63f1-4ee5-8b11-d2ae8a99b2d7"
      },
      "outputs": [
        {
          "output_type": "execute_result",
          "data": {
            "text/plain": [
              "array([[ 56],\n",
              "       [128]])"
            ]
          },
          "metadata": {},
          "execution_count": 73
        }
      ],
      "source": [
        "arr2.dot(arr3)"
      ]
    },
    {
      "cell_type": "markdown",
      "metadata": {
        "id": "qiIru0If7VOx"
      },
      "source": [
        "# 과제 3\n",
        "## Q10.\n",
        "\n",
        "<div class=\"alert alert-success\">\n",
        "[문제10]\n",
        "    \n",
        "np.random을 이용하여 모든 요소의 값이 3 <= 값 < 7인   \n",
        "요소 4개를 갖는 1차원 배열 arr을 생성하시오.  \n",
        "예시) arr = [4, 3, 4, 6]  \n",
        "</div>\n",
        "\n",
        "\n",
        "\n"
      ]
    },
    {
      "cell_type": "code",
      "execution_count": 75,
      "metadata": {
        "id": "yzqVs3ieTuAF",
        "colab": {
          "base_uri": "https://localhost:8080/"
        },
        "outputId": "6d353038-1f28-4c8d-c452-5ef36c0a15c8"
      },
      "outputs": [
        {
          "output_type": "stream",
          "name": "stdout",
          "text": [
            "[[4 4 5 4]]\n"
          ]
        }
      ],
      "source": [
        "arr=np.random.randint(3,7,(1,4))\n",
        "print(arr)"
      ]
    },
    {
      "cell_type": "markdown",
      "metadata": {
        "id": "XHC6Qbjs7VOz"
      },
      "source": [
        "## Q11. \n",
        "\n",
        "<div class=\"alert alert-success\">\n",
        "[문제11]\n",
        "    \n",
        "arr을 2*2 형상 변경하시오.\n",
        "</div>\n"
      ]
    },
    {
      "cell_type": "code",
      "execution_count": 77,
      "metadata": {
        "id": "NFm7UYF5TuAF",
        "colab": {
          "base_uri": "https://localhost:8080/"
        },
        "outputId": "3a2e743d-d8eb-4ace-94eb-bf10a57bc4d5"
      },
      "outputs": [
        {
          "output_type": "stream",
          "name": "stdout",
          "text": [
            "[[4 4]\n",
            " [5 4]]\n"
          ]
        }
      ],
      "source": [
        "arr1=arr.reshape(2,2)\n",
        "print(arr1)"
      ]
    },
    {
      "cell_type": "markdown",
      "metadata": {
        "id": "oqbJuv3tNpuU"
      },
      "source": [
        "## Q12. \n",
        "\n",
        "\n",
        "<div class=\"alert alert-success\">\n",
        "[문제12]\n",
        "다음과 같이 동작하는 로또 번호 생성기를 작성하시오.\n",
        "    \n",
        "    \n",
        "    - 사용자로부터 로또 번호를 몇 개 생성할지 입력받는다    \n",
        "    \n",
        "    - 사용자가 입력한 개수 만큼 로또 번호를 생성하여 출력한다    \n",
        "    \n",
        "    - 로또번호는 숫자가 작은 수부터 순서대로 정렬하여 출력한다\n",
        "    \n",
        "    - 로또 번호는 1부터 46까지 서로 다른 6개의 정수로 이루어져있다    \n",
        "        \n",
        "    - 로또 번호 생성기 로직은 함수로 작성하여 재활용이 가능하도록 한다    \n",
        "   \n",
        "\n",
        "</div>\n",
        "    \n",
        "[실행 예시]\n",
        "로또번호를 몇 개 생성할까요? 3  \n",
        "1. 로또번호: [10 13 16 30 37 41]  \n",
        "2. 로또번호: [ 4 10 15 25 29 42]  \n",
        "3. 로또번호: [ 6 26 31 39 40 45]  \n",
        "\n",
        "  "
      ]
    },
    {
      "cell_type": "code",
      "execution_count": 88,
      "metadata": {
        "id": "wDUTTmnETuAF",
        "colab": {
          "base_uri": "https://localhost:8080/"
        },
        "outputId": "e80a06fd-3353-49ec-aa22-7537dfa731b5"
      },
      "outputs": [
        {
          "output_type": "stream",
          "name": "stdout",
          "text": [
            "로또 번호를 몇 개 생성:4\n",
            "1.로또번호:[ 3  4 32 27 11 14]\n",
            "2.로또번호:[24 19 36 15  7  2]\n",
            "3.로또번호:[ 1 12 23 32 36 42]\n",
            "4.로또번호:[34 19 20  2 45 41]\n"
          ]
        }
      ],
      "source": [
        "mk0=int(input('로또 번호를 몇 개 생성:'))\n",
        "i=0\n",
        "while i < mk0:\n",
        "  i=i+1\n",
        "  rn0=np.random.choice(range(1,46),6,replace=0)\n",
        "  print(str(i)+'.로또번호:'+str(rn0))"
      ]
    },
    {
      "cell_type": "markdown",
      "metadata": {
        "id": "nZZ1gpFRRxSm"
      },
      "source": [
        "## Q13. \n",
        "\n",
        "\n",
        "<div class=\"alert alert-success\">\n",
        "    \n",
        "[문제13]\n",
        "    \n",
        "오늘의 로또번호는 [9, 12, 17, 21, 40, 42]입니다.  \n",
        "    \n",
        "오늘의 로또번호 합보다 더 큰 조합을 가지고 있는 경우, 이벤트 쿠폰을 발행하려고 합니다.\n",
        "    \n",
        "몇 장의 이벤트 쿠폰을 발행해야하는지 판단하는 로직을 작성하세요\n",
        "\n",
        "</div>\n",
        "\n",
        "[실행 예시]\n",
        "\n",
        "\n",
        "\n",
        "로또번호를 몇 개 생성할까요? 3\n",
        "1. 로또번호: [ 1 15 36 39 41 45]  \n",
        "이벤트 당첨, 오늘의 로또번호 합= 141, 당첨된 로또번호 합=177\n",
        "2. 로또번호: [ 6  9 12 19 27 42]  \n",
        "3. 로또번호: [ 4  7 36 39 39 44]  \n",
        "이벤트 당첨, 오늘의 로또번호 합= 141, 당첨된 로또번호 합=169\n"
      ]
    },
    {
      "cell_type": "code",
      "execution_count": 92,
      "metadata": {
        "id": "03f1vg5CRwhf",
        "colab": {
          "base_uri": "https://localhost:8080/"
        },
        "outputId": "47c930f4-0d01-4b54-9b19-acc948ae19ef"
      },
      "outputs": [
        {
          "output_type": "stream",
          "name": "stdout",
          "text": [
            "로또번호를 몇 개 생성할까요? 3\n",
            "1.로또번호:[17 45 34 14 22 35]\n",
            "이벤트당첨,오늘의 로또번호 합=141, 당첨된 로또번호 합=167\n",
            "2.로또번호:[32 35 23  2 36 16]\n",
            "이벤트당첨,오늘의 로또번호 합=141, 당첨된 로또번호 합=144\n",
            "3.로또번호:[14 21  5 39 22 20]\n"
          ]
        }
      ],
      "source": [
        "today = np.array([9, 12, 17, 21, 40, 42])\n",
        "\n",
        "def createLottoNumber2(count):\n",
        "  i=0\n",
        "  while i < count:\n",
        "    i=i+1\n",
        "    rn0=np.random.choice(range(1,46),6,replace=0)\n",
        "    print(str(i)+'.로또번호:'+str(rn0))\n",
        "    if np.sum(rn0) > np.sum(today):\n",
        "      print('이벤트당첨,오늘의 로또번호 합='+str(np.sum(today))+', 당첨된 로또번호 합='+str(np.sum(rn0)))\n",
        "    \n",
        "count = int(input(\"로또번호를 몇 개 생성할까요? \"))\n",
        "createLottoNumber2(count)"
      ]
    },
    {
      "cell_type": "markdown",
      "metadata": {
        "id": "OnXN17-xTuAG"
      },
      "source": [
        "# 과제 4\n",
        "## Q14. \n",
        "\n",
        "\n",
        "<div class=\"alert alert-success\">\n",
        "    \n",
        "[문제14]\n",
        "    \n",
        "수학 시험 답안 채점 프로그램을 만드시오.\n",
        "    \n",
        "    정답 = [3, 2, 1, 4, 4, 3, 4, 4, 3, 3]\n",
        "    \n",
        "    - 문제 수: 10\n",
        "    - 보기: 1번 ~ 5번\n",
        "    - 학생들의 샘플 답안 생성: 10개\n",
        "    - 문항 별 정오답 여부 출력\n",
        "    - 10점 만점에 몇 점인지 출력\n",
        "</div>\n",
        "\n",
        "\n",
        "1. 채점결과: [False  True False False  True False False False  True  True], 점수: 4\n",
        "2. 채점결과: [False  True False  True False False False  True False False], 점수: 3\n",
        "3. 채점결과: [ True  True  True False False False False  True False  True], 점수: 5\n",
        "4. 채점결과: [False False  True False False  True False False False  True], 점수: 3\n",
        "5. 채점결과: [False  True False  True False  True False  True False False], 점수: 4\n",
        "6. 채점결과: [False False False  True False False False False False False], 점수: 1\n",
        "7. 채점결과: [False  True  True False  True False False False False  True], 점수: 4\n",
        "8. 채점결과: [False  True  True False False False  True False False False], 점수: 3\n",
        "9. 채점결과: [ True False False False False  True False  True False False], 점수: 3\n",
        "10. 채점결과: [False  True  True False False False  True False False False], 점수: 3\n"
      ]
    },
    {
      "cell_type": "code",
      "execution_count": 96,
      "metadata": {
        "id": "Xz3gIbnMTuAH",
        "colab": {
          "base_uri": "https://localhost:8080/"
        },
        "outputId": "b292e933-fdac-477b-f145-b844831d9590"
      },
      "outputs": [
        {
          "output_type": "execute_result",
          "data": {
            "text/plain": [
              "False"
            ]
          },
          "metadata": {},
          "execution_count": 96
        }
      ],
      "source": [
        "# 주어진 코드\n",
        "correct = np.array([3, 2, 1, 4, 4, 3, 4, 4, 3, 3])\n",
        "\n",
        "count = 10\n",
        "students = 10\n",
        "answers = np.random.randint(1, 5, size=count*students)\n",
        "answers = answers.reshape(count, students)\n",
        "correct[1] == answers[2,1]"
      ]
    },
    {
      "cell_type": "code",
      "execution_count": 103,
      "metadata": {
        "id": "RjMfoJqZTuAH",
        "colab": {
          "base_uri": "https://localhost:8080/"
        },
        "outputId": "0669a379-8e27-4b88-ec5e-5bc2d8a74d16"
      },
      "outputs": [
        {
          "output_type": "stream",
          "name": "stdout",
          "text": [
            "1. 채점결과:[False, False, False, False, False, False, True, False, False, False], 점수:1\n",
            "2. 채점결과:[True, False, True, False, False, False, False, True, False, False], 점수:3\n",
            "3. 채점결과:[False, False, True, True, True, True, False, False, False, False], 점수:4\n",
            "4. 채점결과:[False, True, False, False, False, False, False, False, False, False], 점수:1\n",
            "5. 채점결과:[False, True, False, False, False, False, False, False, False, False], 점수:1\n",
            "6. 채점결과:[False, False, False, True, True, False, False, False, True, False], 점수:3\n",
            "7. 채점결과:[False, False, False, False, False, True, True, False, False, True], 점수:3\n",
            "8. 채점결과:[False, True, False, True, False, False, True, False, False, False], 점수:3\n",
            "9. 채점결과:[True, False, False, False, False, False, False, False, False, False], 점수:1\n",
            "10. 채점결과:[False, False, True, False, False, False, False, False, False, False], 점수:1\n"
          ]
        }
      ],
      "source": [
        "def check_answer_sheet(correct, answers):\n",
        "  j=0\n",
        "  while j < 10:    \n",
        "    result=[]\n",
        "    i=0\n",
        "    while i < 10:\n",
        "      if correct[i] == answers[j,i]:\n",
        "        result.append(bool(1))\n",
        "      else:\n",
        "        result.append(bool(0))\n",
        "      i=i+1\n",
        "    j=j+1\n",
        "    print(str(j)+'. 채점결과:'+str(result)+', 점수:'+str(np.sum(result)))\n",
        "check_answer_sheet(correct, answers)"
      ]
    },
    {
      "cell_type": "code",
      "execution_count": null,
      "metadata": {
        "id": "ANu1WpsvTuAH"
      },
      "outputs": [],
      "source": []
    }
  ],
  "metadata": {
    "colab": {
      "provenance": [],
      "toc_visible": true,
      "include_colab_link": true
    },
    "kernelspec": {
      "display_name": "Python 3",
      "language": "python",
      "name": "python3"
    },
    "language_info": {
      "codemirror_mode": {
        "name": "ipython",
        "version": 3
      },
      "file_extension": ".py",
      "mimetype": "text/x-python",
      "name": "python",
      "nbconvert_exporter": "python",
      "pygments_lexer": "ipython3",
      "version": "3.8.5"
    },
    "toc": {
      "base_numbering": 1,
      "nav_menu": {},
      "number_sections": false,
      "sideBar": true,
      "skip_h1_title": false,
      "title_cell": "Table of Contents",
      "title_sidebar": "Contents",
      "toc_cell": false,
      "toc_position": {},
      "toc_section_display": true,
      "toc_window_display": true
    }
  },
  "nbformat": 4,
  "nbformat_minor": 0
}