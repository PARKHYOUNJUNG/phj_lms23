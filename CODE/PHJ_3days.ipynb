{
  "nbformat": 4,
  "nbformat_minor": 0,
  "metadata": {
    "colab": {
      "provenance": [],
      "authorship_tag": "ABX9TyN+HDA4O0FA2UuSayrXVBP/",
      "include_colab_link": true
    },
    "kernelspec": {
      "name": "python3",
      "display_name": "Python 3"
    },
    "language_info": {
      "name": "python"
    }
  },
  "cells": [
    {
      "cell_type": "markdown",
      "metadata": {
        "id": "view-in-github",
        "colab_type": "text"
      },
      "source": [
        "<a href=\"https://colab.research.google.com/github/PARKHYOUNJUNG/phj_lms23/blob/main/CODE/PHJ_3days.ipynb\" target=\"_parent\"><img src=\"https://colab.research.google.com/assets/colab-badge.svg\" alt=\"Open In Colab\"/></a>"
      ]
    },
    {
      "cell_type": "code",
      "execution_count": null,
      "metadata": {
        "id": "YOV-iQV-v1zg"
      },
      "outputs": [],
      "source": []
    },
    {
      "cell_type": "markdown",
      "source": [
        "# 3. 3일차 과제"
      ],
      "metadata": {
        "id": "1bKq7eYri3--"
      }
    },
    {
      "cell_type": "markdown",
      "source": [
        "## 3.1.제어문"
      ],
      "metadata": {
        "id": "0qoatsvxi8kl"
      }
    },
    {
      "cell_type": "markdown",
      "source": [
        "### 3.1.1.IF 문"
      ],
      "metadata": {
        "id": "dvkIXx0Mi-4z"
      }
    },
    {
      "cell_type": "markdown",
      "source": [
        "Q1. 다음 코드의 결과값은 무엇일까?"
      ],
      "metadata": {
        "id": "D9J9KIdEjKXH"
      }
    },
    {
      "cell_type": "code",
      "execution_count": null,
      "metadata": {
        "colab": {
          "base_uri": "https://localhost:8080/"
        },
        "id": "Lv71eGiJit1p",
        "outputId": "d733932f-ad28-4544-c816-7f60305d4356"
      },
      "outputs": [
        {
          "output_type": "stream",
          "name": "stdout",
          "text": [
            "shirt\n"
          ]
        }
      ],
      "source": [
        "a = \"Life is too short, you need python\"\n",
        "\n",
        "if \"wife\" in a: print(\"wife\")\n",
        "\n",
        "elif \"python\" in a and \"you\" not in a: print(\"python\")\n",
        "\n",
        "elif \"shirt\" not in a:print(\"shirt\")\n",
        "\n",
        "elif \"need\" in a: print(\"need\")\n",
        "\n",
        "else: print(\"none\")"
      ]
    },
    {
      "cell_type": "markdown",
      "source": [
        "### 3.1.2. While 문"
      ],
      "metadata": {
        "id": "EuToTFlajiPd"
      }
    },
    {
      "cell_type": "markdown",
      "source": [
        "Q1. while문을 이용하여 아래와 같이 별(*)을 표시하는 프로그램을 작성해보자"
      ],
      "metadata": {
        "id": "Wxw1DAO_jnSV"
      }
    },
    {
      "cell_type": "code",
      "source": [
        "i=0\n",
        "while True:\n",
        "  if i < 5:\n",
        "    i=i+1\n",
        "    print(\"*\"*i)\n",
        "  else:\n",
        "    break"
      ],
      "metadata": {
        "colab": {
          "base_uri": "https://localhost:8080/"
        },
        "id": "mhuB-B6KjS1c",
        "outputId": "1b93f0bb-1ed3-4a27-edf6-c3062817efcf"
      },
      "execution_count": null,
      "outputs": [
        {
          "output_type": "stream",
          "name": "stdout",
          "text": [
            "*\n",
            "**\n",
            "***\n",
            "****\n",
            "*****\n"
          ]
        }
      ]
    },
    {
      "cell_type": "markdown",
      "source": [
        "### 3.1.3. For 문"
      ],
      "metadata": {
        "id": "pZmL2N0PkQVj"
      }
    },
    {
      "cell_type": "markdown",
      "source": [
        "Q1. A학급에 총 10명의 학생이 있다. 이 학생들의 중간고사 점수는 다음과 같다\n",
        "\n",
        "[70, 60, 55, 75, 95, 90, 80, 80, 85, 100]\n",
        "\n",
        "for문을 이용하여 A학급의 평균 점수를 구해 보자"
      ],
      "metadata": {
        "id": "1AT5LD1xkX6f"
      }
    },
    {
      "cell_type": "code",
      "source": [
        "A = [70, 60, 55, 75, 95, 90, 80, 80, 85, 100]\n",
        "sum1=0\n",
        "for i in A :\n",
        "  sum1 = sum1 + i\n",
        "  # i = i+1\n",
        "print(sum1/len(A))"
      ],
      "metadata": {
        "colab": {
          "base_uri": "https://localhost:8080/"
        },
        "id": "KUcptUOskMNy",
        "outputId": "cc81b872-c8b8-4959-8208-5dd710fa39a1"
      },
      "execution_count": null,
      "outputs": [
        {
          "output_type": "stream",
          "name": "stdout",
          "text": [
            "79.0\n"
          ]
        }
      ]
    },
    {
      "cell_type": "markdown",
      "source": [
        "## 3.2. 함수"
      ],
      "metadata": {
        "id": "Fqhm5tKSmbwW"
      }
    },
    {
      "cell_type": "markdown",
      "source": [
        "### 3.2.1. 피보나치 수열"
      ],
      "metadata": {
        "id": "ZdBsY8i4mgc2"
      }
    },
    {
      "cell_type": "markdown",
      "source": [
        "Q1. 첫번째 항의 값이 0이고 두 번째 항의 값이 1일때, 이후에 이어지는 항들은 이전의 두 항을 더한 값으로 이루어지는 수열을 피보나치 수열이라고 한다.\n",
        "\n",
        "0, 1, 1, 2, 3, 5, 8, 13, ...\n",
        "\n",
        "입력을 정수n으로 받았을 때, n 이하까지의 피보나치 수열을 출력하는 함수를 작성해보자"
      ],
      "metadata": {
        "id": "PdSHoeYEmlNC"
      }
    },
    {
      "cell_type": "code",
      "source": [
        "def fib(n):\n",
        "  if n==0:\n",
        "    B.insert(0,0)\n",
        "  elif n==1:\n",
        "    B.insert(1,1)\n",
        "  else:\n",
        "    B.insert(n,B[n-2]+B[n-1])\n",
        "  return B"
      ],
      "metadata": {
        "id": "yyr5r_-opGUf"
      },
      "execution_count": null,
      "outputs": []
    },
    {
      "cell_type": "code",
      "source": [
        "B=[]\n",
        "for i in range(10):\n",
        "  print(fib(i))"
      ],
      "metadata": {
        "colab": {
          "base_uri": "https://localhost:8080/"
        },
        "id": "vLJHGw4rklG_",
        "outputId": "6bd36c7f-0b4c-4e27-d2a5-f49bebbf3d31"
      },
      "execution_count": null,
      "outputs": [
        {
          "output_type": "stream",
          "name": "stdout",
          "text": [
            "[0]\n",
            "[0, 1]\n",
            "[0, 1, 1]\n",
            "[0, 1, 1, 2]\n",
            "[0, 1, 1, 2, 3]\n",
            "[0, 1, 1, 2, 3, 5]\n",
            "[0, 1, 1, 2, 3, 5, 8]\n",
            "[0, 1, 1, 2, 3, 5, 8, 13]\n",
            "[0, 1, 1, 2, 3, 5, 8, 13, 21]\n",
            "[0, 1, 1, 2, 3, 5, 8, 13, 21, 34]\n"
          ]
        }
      ]
    },
    {
      "cell_type": "markdown",
      "source": [
        "### 3.2.2. 문자열 압축하기"
      ],
      "metadata": {
        "id": "_tHUSDVwzBr-"
      }
    },
    {
      "cell_type": "markdown",
      "source": [
        "Q1. 문자열을 입력 받아 같은 문자가 연속적으로 반복되는 경우에 그 반복 횟수를 표시해 문자열을 압축하여 표시해 보자\n",
        "\n",
        "입력예시: aaabbcccccca\n",
        "출력예시: a3b2c6a1"
      ],
      "metadata": {
        "id": "K-hUOQauzIyb"
      }
    },
    {
      "cell_type": "code",
      "source": [
        "def compress_string(s):\n",
        "  li_s=[]\n",
        "  while len(s) > 0:\n",
        "    num=s.count(s[0])\n",
        "    li_s.append(s[0])\n",
        "    li_s.append(str(num))\n",
        "    s=s.strip(s[0])\n",
        "  jo_s=''.join(li_s)\n",
        "  return jo_s"
      ],
      "metadata": {
        "id": "XN2y40TBp7zM"
      },
      "execution_count": null,
      "outputs": []
    },
    {
      "cell_type": "code",
      "source": [
        "print(compress_string(\"aaabbcccccca\"))"
      ],
      "metadata": {
        "colab": {
          "base_uri": "https://localhost:8080/"
        },
        "id": "4dsBqdkszP1R",
        "outputId": "af6f6f97-a8d3-4f65-ca87-e3a55a9e3fec"
      },
      "execution_count": null,
      "outputs": [
        {
          "output_type": "stream",
          "name": "stdout",
          "text": [
            "a4b2c6\n"
          ]
        }
      ]
    },
    {
      "cell_type": "markdown",
      "source": [
        "### 3.2.3. Duplicate Numbers"
      ],
      "metadata": {
        "id": "VRvNwBArZH9v"
      }
    },
    {
      "cell_type": "markdown",
      "source": [
        "Q1. 0 ~ 9 까지의 문자로 된 숫자를 입력받았을 때, 이 입력값이 0 ~ 9까지의 모든 숫자가 각각 한 번씩만 사용된 것인지 확인하는 함수를 작성해 보자.\n",
        "\n",
        "입력예시 : 0123456789 01234 01234567890 6789012345 012322456789\n",
        "\n",
        "출력예시 : true false false true false"
      ],
      "metadata": {
        "id": "lxmz4fYZZPZO"
      }
    },
    {
      "cell_type": "code",
      "source": [
        "def chkDupNum(s):\n",
        "  li_s=s.split(' ')\n",
        "  k=[]\n",
        "  for j in li_s:\n",
        "    for i in j:\n",
        "      if j.count(i) > 1:\n",
        "        result=0\n",
        "        break\n",
        "      else:\n",
        "        result=1\n",
        "    k.append(str(bool(result)))\n",
        "  jo_k=' '.join(k)\n",
        "  return jo_k  "
      ],
      "metadata": {
        "id": "8hE2qextzQiI"
      },
      "execution_count": null,
      "outputs": []
    },
    {
      "cell_type": "code",
      "source": [
        "print(chkDupNum(\"0123456789 01234 01234567890 6789012345 012322456789\"))\n",
        "\n",
        "print(chkDupNum(\"0123456789\"))\n",
        "print(chkDupNum(\"01234\"))\n",
        "print(chkDupNum(\"01234567890\"))\n",
        "print(chkDupNum(\"6789012345\"))\n",
        "print(chkDupNum(\"012322456789\"))"
      ],
      "metadata": {
        "colab": {
          "base_uri": "https://localhost:8080/"
        },
        "id": "r9Kc32pBcQO8",
        "outputId": "ce1ac263-dd5b-4174-f895-7223ecc05c10"
      },
      "execution_count": null,
      "outputs": [
        {
          "output_type": "stream",
          "name": "stdout",
          "text": [
            "True True False True False\n",
            "True\n",
            "True\n",
            "False\n",
            "True\n",
            "False\n"
          ]
        }
      ]
    },
    {
      "cell_type": "markdown",
      "source": [
        "## 3.3. 클래스"
      ],
      "metadata": {
        "id": "VS50K6pwfhef"
      }
    },
    {
      "cell_type": "markdown",
      "source": [
        "Q1. 다음과 같이 동작하는 클래스 Calculator를 작성해 보자.\n",
        "\n",
        "cal1 = Calculator([1,2,3,4,5])\n",
        "\n",
        "cal1.sum() # 15\n",
        "\n",
        "cal1.avg() # 3.0\n",
        "\n",
        "cal2 = Calculator([6,7,8,9,10])\n",
        "\n",
        "cal2.sum() # 40\n",
        "\n",
        "cal2.avg() #8.0"
      ],
      "metadata": {
        "id": "pKIHIEMuf0bq"
      }
    },
    {
      "cell_type": "code",
      "source": [
        "class Calculator:\n",
        "  def __init__(self, numberList):\n",
        "    self.numberList = numberList\n",
        "\n",
        "  def sum(self):\n",
        "    return sum(self.numberList)\n",
        "\n",
        "  def avg(self):\n",
        "    return sum(self.numberList)/len(self.numberList)"
      ],
      "metadata": {
        "id": "ArzCrHClejUr"
      },
      "execution_count": null,
      "outputs": []
    },
    {
      "cell_type": "code",
      "source": [
        "cal1 = Calculator([1,2,3,4,5])\n",
        "print(cal1.sum()) # 15\n",
        "print(cal1.avg()) # 3.0"
      ],
      "metadata": {
        "colab": {
          "base_uri": "https://localhost:8080/"
        },
        "id": "lL_mI698g_f_",
        "outputId": "1dddcfc9-2bf8-441c-f4d7-b7f8bd428f5b"
      },
      "execution_count": null,
      "outputs": [
        {
          "output_type": "stream",
          "name": "stdout",
          "text": [
            "15\n",
            "3.0\n"
          ]
        }
      ]
    },
    {
      "cell_type": "code",
      "source": [
        "cal2 = Calculator([6,7,8,9,10])\n",
        "print(cal2.sum()) # 40\n",
        "print(cal2.avg()) #8.0"
      ],
      "metadata": {
        "colab": {
          "base_uri": "https://localhost:8080/"
        },
        "id": "EQOfEiUZhLMU",
        "outputId": "ece9ad87-bd40-42bc-e20f-0cf12fff2b7e"
      },
      "execution_count": null,
      "outputs": [
        {
          "output_type": "stream",
          "name": "stdout",
          "text": [
            "40\n",
            "8.0\n"
          ]
        }
      ]
    },
    {
      "cell_type": "markdown",
      "source": [
        "## 3.4. 모듈"
      ],
      "metadata": {
        "id": "FGG7ERFvtSlN"
      }
    },
    {
      "cell_type": "markdown",
      "source": [
        "Q1. 이전 문제에서 작성한 Calculator 클래스를 calculator.py 라는 파일로 저장하자, 그리고 이 파일을 모듈로 사용하려고 한다. 다음처럼 동작하도록 만들어 보자"
      ],
      "metadata": {
        "id": "nWjrNpHXtVc5"
      }
    },
    {
      "cell_type": "code",
      "source": [
        "from calculator import Calculator\n",
        "\n",
        "cal1 = Calculator([1,2,3,4,5])\n",
        "cal1.sum()"
      ],
      "metadata": {
        "id": "fwgyxjxeogqh"
      },
      "execution_count": null,
      "outputs": []
    },
    {
      "cell_type": "code",
      "source": [],
      "metadata": {
        "id": "SPtV8NmPtY1i"
      },
      "execution_count": null,
      "outputs": []
    }
  ]
}