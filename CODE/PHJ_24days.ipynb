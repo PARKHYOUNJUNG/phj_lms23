{
  "nbformat": 4,
  "nbformat_minor": 0,
  "metadata": {
    "colab": {
      "provenance": [],
      "include_colab_link": true
    },
    "kernelspec": {
      "name": "python3",
      "display_name": "Python 3"
    },
    "language_info": {
      "name": "python"
    }
  },
  "cells": [
    {
      "cell_type": "markdown",
      "metadata": {
        "id": "view-in-github",
        "colab_type": "text"
      },
      "source": [
        "<a href=\"https://colab.research.google.com/github/PARKHYOUNJUNG/phj_lms23/blob/main/CODE/PHJ_24days.ipynb\" target=\"_parent\"><img src=\"https://colab.research.google.com/assets/colab-badge.svg\" alt=\"Open In Colab\"/></a>"
      ]
    },
    {
      "cell_type": "code",
      "source": [
        "# Dataset.csv 파일을 읽어오기\n",
        "df = pd.read_csv('Dataset.csv')\n",
        "\n",
        "# 데이터프레임의 상위 5개 항목 출력\n",
        "df.head(5)"
      ],
      "metadata": {
        "id": "5EW716aKN_R_",
        "colab": {
          "base_uri": "https://localhost:8080/",
          "height": 247
        },
        "outputId": "f4a33011-4a8c-4f80-b368-dd5fb20412f1"
      },
      "execution_count": 1,
      "outputs": [
        {
          "output_type": "error",
          "ename": "NameError",
          "evalue": "ignored",
          "traceback": [
            "\u001b[0;31m---------------------------------------------------------------------------\u001b[0m",
            "\u001b[0;31mNameError\u001b[0m                                 Traceback (most recent call last)",
            "\u001b[0;32m<ipython-input-1-0bba40c082c5>\u001b[0m in \u001b[0;36m<cell line: 2>\u001b[0;34m()\u001b[0m\n\u001b[1;32m      1\u001b[0m \u001b[0;31m# Dataset.csv 파일을 읽어오기\u001b[0m\u001b[0;34m\u001b[0m\u001b[0;34m\u001b[0m\u001b[0m\n\u001b[0;32m----> 2\u001b[0;31m \u001b[0mdf\u001b[0m \u001b[0;34m=\u001b[0m \u001b[0mpd\u001b[0m\u001b[0;34m.\u001b[0m\u001b[0mread_csv\u001b[0m\u001b[0;34m(\u001b[0m\u001b[0;34m'Dataset.csv'\u001b[0m\u001b[0;34m)\u001b[0m\u001b[0;34m\u001b[0m\u001b[0;34m\u001b[0m\u001b[0m\n\u001b[0m\u001b[1;32m      3\u001b[0m \u001b[0;34m\u001b[0m\u001b[0m\n\u001b[1;32m      4\u001b[0m \u001b[0;31m# 데이터프레임의 상위 5개 항목 출력\u001b[0m\u001b[0;34m\u001b[0m\u001b[0;34m\u001b[0m\u001b[0m\n\u001b[1;32m      5\u001b[0m \u001b[0mdf\u001b[0m\u001b[0;34m.\u001b[0m\u001b[0mhead\u001b[0m\u001b[0;34m(\u001b[0m\u001b[0;36m5\u001b[0m\u001b[0;34m)\u001b[0m\u001b[0;34m\u001b[0m\u001b[0;34m\u001b[0m\u001b[0m\n",
            "\u001b[0;31mNameError\u001b[0m: name 'pd' is not defined"
          ]
        }
      ]
    },
    {
      "cell_type": "code",
      "source": [
        "# 컬럼별 요약정보\n",
        "df.info()"
      ],
      "metadata": {
        "id": "8CU5zAliRdVR"
      },
      "execution_count": null,
      "outputs": []
    },
    {
      "cell_type": "code",
      "source": [
        "from pandas.core.describe import DataFrameDescriber\n",
        "# 전체 컬럼에서 0~5번 컬럼에 해당하는 값을 독립변수(X)로 할당\n",
        "X = df.drop(['target'], axis = 1)\n",
        "\n",
        "# nano_parcticle 컬럼을 종속변수(y)로 할당\n",
        "y = df['target'] \n",
        "\n",
        "# X에 할당된 값 확인\n",
        "X.head()"
      ],
      "metadata": {
        "id": "sZV7RbbpR2jV"
      },
      "execution_count": null,
      "outputs": []
    },
    {
      "cell_type": "code",
      "source": [
        "df.describe()"
      ],
      "metadata": {
        "id": "Rpwx75PiQO3N"
      },
      "execution_count": null,
      "outputs": []
    },
    {
      "cell_type": "code",
      "source": [
        "# sklearn에서 제공하는 StandardScaler를 임포트\n",
        "from sklearn.preprocessing import StandardScaler\n",
        "\n",
        "# StandardScaler() 객체 선언\n",
        "sc = StandardScaler()\n",
        "\n",
        "# X를 StandardScaler를 사용하여 z-점수 정규화(StandardScaler)수행\n",
        "X = sc.fit_transform(X)\n",
        "\n",
        "# 변환된 결과 출력\n",
        "print(X)"
      ],
      "metadata": {
        "id": "0KPI-5A0SGuM"
      },
      "execution_count": null,
      "outputs": []
    },
    {
      "cell_type": "code",
      "source": [
        "for i in range(len(X[0])):\n",
        "    print('{} 컬럼의 평균: {:.2f}, 표준편차:{}'.format(i, X[:, i].mean(), X[:, i].std()))"
      ],
      "metadata": {
        "id": "RsAqHBU9e69i"
      },
      "execution_count": null,
      "outputs": []
    },
    {
      "cell_type": "code",
      "source": [
        "# sklearn에서 제공하는 train_test_split 임포트\n",
        "from sklearn.model_selection import train_test_split\n",
        "\n",
        "# 데이터 분할\n",
        "# - 테스트용 데이터의 비율을 20%로 설정\n",
        "# - 동일한 샘플링 결과를 얻기 위해 random_state 설정\n",
        "# - y의 비율을 기준으로 샘플링\n",
        "X_train, X_test, y_train, y_test = train_test_split(X, y,test_size = 0.2, random_state = 42, stratify=y)\n",
        "\n",
        "# 분할된 변수의 결과 출력\n",
        "print('X: {}, X_train: {}, X_test:{}'.format(X.shape, X_train.shape, X_test.shape))\n",
        "print('y: {}, y_train: {}, y_test:{}'.format(y.shape, y_train.shape, y_test.shape))"
      ],
      "metadata": {
        "id": "h3hzN30MSQ7V"
      },
      "execution_count": null,
      "outputs": []
    },
    {
      "cell_type": "code",
      "source": [
        "# y값을 기준으로 계층적(stratified) 샘플링이 적용되어 데이터가 분할되었는지 여부를 확인\n",
        "print(y.value_counts()/len(y) * 100)\n",
        "print(y_train.value_counts()/len(y_train) * 100)\n",
        "print(y_test.value_counts()/len(y_test) * 100)"
      ],
      "metadata": {
        "id": "jQsRCmhkSfU5"
      },
      "execution_count": null,
      "outputs": []
    },
    {
      "cell_type": "code",
      "source": [
        "# DecisionTreeClassifier 라이브러리 불러오기\n",
        "from sklearn.tree import DecisionTreeClassifier\n",
        "\n",
        "# 기본 매개변수를 사용하는 DecisionTreeClassifier 생성\n",
        "tree = DecisionTreeClassifier(random_state=42)\n",
        "\n",
        "# 생성한 tree 객체를 학습용 데이터를 사용하여 학습\n",
        "tree.fit(X_train, y_train)"
      ],
      "metadata": {
        "id": "ZIM24brCSl7s"
      },
      "execution_count": null,
      "outputs": []
    },
    {
      "cell_type": "code",
      "source": [
        "import graphviz\n",
        "from sklearn.tree import export_graphviz\n",
        "\n",
        "tree_img = export_graphviz(tree,feature_names=df.columns[:len(df.columns)-1],\n",
        "                      class_names=[\"1\",\"0\"])\n",
        "graphviz.Source(tree_img)"
      ],
      "metadata": {
        "id": "7Iz76Fm5S9PN"
      },
      "execution_count": null,
      "outputs": []
    },
    {
      "cell_type": "code",
      "source": [
        "# 학습용 데이터 셋의 정확도\n",
        "print(\"train 세트 정확도: {:.3f}\".format(tree.score(X_train, y_train)))\n",
        "\n",
        "# 테스트용 데이터 셋의 정확도-\n",
        "print(\"test 세트 정확도: {:.3f}\".format(tree.score(X_test, y_test)))"
      ],
      "metadata": {
        "id": "wywqeZtETUBd"
      },
      "execution_count": null,
      "outputs": []
    },
    {
      "cell_type": "code",
      "source": [
        "# X_test를 입력으로하여 결과값 예측\n",
        "y_pred = tree.predict(X_test)\n",
        "print('예측값:' , y_pred)\n",
        "print('실제값:' , y_test.values)"
      ],
      "metadata": {
        "id": "RXLGzoF3TeOh"
      },
      "execution_count": null,
      "outputs": []
    },
    {
      "cell_type": "code",
      "source": [
        "plt.figure(figsize=(20,8))\n",
        "plt.scatter(np.arange(len(y_pred)), y_pred - y_test)"
      ],
      "metadata": {
        "id": "g_Us4UtNTjCl"
      },
      "execution_count": null,
      "outputs": []
    },
    {
      "cell_type": "code",
      "source": [
        "from sklearn.metrics import confusion_matrix\n",
        "from sklearn.metrics import ConfusionMatrixDisplay\n",
        "\n",
        "# 혼동행렬 생성\n",
        "cm = confusion_matrix(y_test, y_pred)\n",
        "\n",
        "# 혼동행렬 시각화\n",
        "cm_display = ConfusionMatrixDisplay(cm).plot()"
      ],
      "metadata": {
        "id": "vHA1J3cYTpAL"
      },
      "execution_count": null,
      "outputs": []
    },
    {
      "cell_type": "code",
      "source": [
        "# SVC 라이브러리 불러오기\n",
        "from sklearn.svm import SVC\n",
        "\n",
        "# 기본 매개변수를 사용하여 SVC 객체 생성\n",
        "classifier = SVC()\n",
        "\n",
        "# 생성한 SVC 객체를 학습용 데이터를 사용하여 학습\n",
        "classifier.fit(X_train, y_train)"
      ],
      "metadata": {
        "id": "E5pteGLzT_QF"
      },
      "execution_count": null,
      "outputs": []
    },
    {
      "cell_type": "code",
      "source": [
        "# 학습용 데이터 셋의 정확도\n",
        "print(\"train 세트 정확도: {:.3f}\".format(classifier.score(X_train, y_train)))\n",
        "\n",
        "# 테스트용 데이터 셋의 정확도\n",
        "print(\"test 세트 정확도: {:.3f}\".format(classifier.score(X_test, y_test)))"
      ],
      "metadata": {
        "id": "XbkKwlB2UDcO"
      },
      "execution_count": null,
      "outputs": []
    },
    {
      "cell_type": "code",
      "source": [
        "y_pred = classifier.predict(X_test)\n",
        "\n",
        "from sklearn.metrics import confusion_matrix\n",
        "from sklearn.metrics import ConfusionMatrixDisplay\n",
        "\n",
        "# 혼동행렬 생성\n",
        "cm = confusion_matrix(y_test, y_pred)\n",
        "\n",
        "# 혼동행렬 시각화\n",
        "cm_display = ConfusionMatrixDisplay(cm).plot()"
      ],
      "metadata": {
        "id": "WH6fbz9JUKEF",
        "colab": {
          "base_uri": "https://localhost:8080/",
          "height": 247
        },
        "outputId": "b45a1398-3c97-4e69-a395-9608e14ac311"
      },
      "execution_count": 2,
      "outputs": [
        {
          "output_type": "error",
          "ename": "NameError",
          "evalue": "ignored",
          "traceback": [
            "\u001b[0;31m---------------------------------------------------------------------------\u001b[0m",
            "\u001b[0;31mNameError\u001b[0m                                 Traceback (most recent call last)",
            "\u001b[0;32m<ipython-input-2-74f8125bc7e4>\u001b[0m in \u001b[0;36m<cell line: 1>\u001b[0;34m()\u001b[0m\n\u001b[0;32m----> 1\u001b[0;31m \u001b[0my_pred\u001b[0m \u001b[0;34m=\u001b[0m \u001b[0mclassifier\u001b[0m\u001b[0;34m.\u001b[0m\u001b[0mpredict\u001b[0m\u001b[0;34m(\u001b[0m\u001b[0mX_test\u001b[0m\u001b[0;34m)\u001b[0m\u001b[0;34m\u001b[0m\u001b[0;34m\u001b[0m\u001b[0m\n\u001b[0m\u001b[1;32m      2\u001b[0m \u001b[0;34m\u001b[0m\u001b[0m\n\u001b[1;32m      3\u001b[0m \u001b[0;32mfrom\u001b[0m \u001b[0msklearn\u001b[0m\u001b[0;34m.\u001b[0m\u001b[0mmetrics\u001b[0m \u001b[0;32mimport\u001b[0m \u001b[0mconfusion_matrix\u001b[0m\u001b[0;34m\u001b[0m\u001b[0;34m\u001b[0m\u001b[0m\n\u001b[1;32m      4\u001b[0m \u001b[0;32mfrom\u001b[0m \u001b[0msklearn\u001b[0m\u001b[0;34m.\u001b[0m\u001b[0mmetrics\u001b[0m \u001b[0;32mimport\u001b[0m \u001b[0mConfusionMatrixDisplay\u001b[0m\u001b[0;34m\u001b[0m\u001b[0;34m\u001b[0m\u001b[0m\n\u001b[1;32m      5\u001b[0m \u001b[0;34m\u001b[0m\u001b[0m\n",
            "\u001b[0;31mNameError\u001b[0m: name 'classifier' is not defined"
          ]
        }
      ]
    },
    {
      "cell_type": "code",
      "source": [
        "#  변경할 max_depth \n",
        "max_depth=[1,2,3,4,5,6,7,8,9,10]\n",
        "\n",
        "# 매개변수에 따른 학습데이터 셋, 테스트 데이터셋에 대한 정확도를 저장하기 위한 변수\n",
        "train_scores = []\n",
        "test_scores = []\n",
        "\n",
        "for i in max_depth:\n",
        "    # max_depth 변경하여 모델 생성\n",
        "    tuned_tree = DecisionTreeClassifier(random_state=42, max_depth= i)\n",
        "\n",
        "    # 생성한 tree 객체를 학습용 데이터를 사용하여 학습\n",
        "    tuned_tree.fit(X_train, y_train)\n",
        "\n",
        "    # 학습데이터 셋, 테스트 데이터셋에 대한 정확도를 저장\n",
        "    train_scores.append(tuned_tree.score(X_train, y_train))\n",
        "    test_scores.append(tuned_tree.score(X_test, y_test))\n",
        "    \n",
        "    # 정확도 출력\n",
        "    print(\"max_depth = {}, train 세트 정확도: {:.3f}, test 세트 정확도: {:.3f}\".\\\n",
        "          format(i, train_scores[i-1], test_scores[i-1]))"
      ],
      "metadata": {
        "id": "yjZQZBjkWR7V",
        "colab": {
          "base_uri": "https://localhost:8080/",
          "height": 247
        },
        "outputId": "19d6c004-6d4d-448e-8582-ec5befc17dc7"
      },
      "execution_count": 3,
      "outputs": [
        {
          "output_type": "error",
          "ename": "NameError",
          "evalue": "ignored",
          "traceback": [
            "\u001b[0;31m---------------------------------------------------------------------------\u001b[0m",
            "\u001b[0;31mNameError\u001b[0m                                 Traceback (most recent call last)",
            "\u001b[0;32m<ipython-input-3-2ce2cb475a73>\u001b[0m in \u001b[0;36m<cell line: 8>\u001b[0;34m()\u001b[0m\n\u001b[1;32m      8\u001b[0m \u001b[0;32mfor\u001b[0m \u001b[0mi\u001b[0m \u001b[0;32min\u001b[0m \u001b[0mmax_depth\u001b[0m\u001b[0;34m:\u001b[0m\u001b[0;34m\u001b[0m\u001b[0;34m\u001b[0m\u001b[0m\n\u001b[1;32m      9\u001b[0m     \u001b[0;31m# max_depth 변경하여 모델 생성\u001b[0m\u001b[0;34m\u001b[0m\u001b[0;34m\u001b[0m\u001b[0m\n\u001b[0;32m---> 10\u001b[0;31m     \u001b[0mtuned_tree\u001b[0m \u001b[0;34m=\u001b[0m \u001b[0mDecisionTreeClassifier\u001b[0m\u001b[0;34m(\u001b[0m\u001b[0mrandom_state\u001b[0m\u001b[0;34m=\u001b[0m\u001b[0;36m42\u001b[0m\u001b[0;34m,\u001b[0m \u001b[0mmax_depth\u001b[0m\u001b[0;34m=\u001b[0m \u001b[0mi\u001b[0m\u001b[0;34m)\u001b[0m\u001b[0;34m\u001b[0m\u001b[0;34m\u001b[0m\u001b[0m\n\u001b[0m\u001b[1;32m     11\u001b[0m \u001b[0;34m\u001b[0m\u001b[0m\n\u001b[1;32m     12\u001b[0m     \u001b[0;31m# 생성한 tree 객체를 학습용 데이터를 사용하여 학습\u001b[0m\u001b[0;34m\u001b[0m\u001b[0;34m\u001b[0m\u001b[0m\n",
            "\u001b[0;31mNameError\u001b[0m: name 'DecisionTreeClassifier' is not defined"
          ]
        }
      ]
    },
    {
      "cell_type": "code",
      "source": [
        "# 매개변수 변화에 따른 학습데이터와 테스트데이터에 대한 정확도 변화 시각화\n",
        "plt.title('DecisionTreeClassifier Scores by max_depth')\n",
        "plt.plot(max_depth, train_scores, label='Train',linewidth=2, marker='o')\n",
        "plt.plot(max_depth, test_scores, label='Test',linewidth=2, marker='o')\n",
        "plt.legend()"
      ],
      "metadata": {
        "id": "gMx8713wWUan",
        "colab": {
          "base_uri": "https://localhost:8080/",
          "height": 247
        },
        "outputId": "829b04bc-d97d-4787-9f2e-930b36851639"
      },
      "execution_count": 4,
      "outputs": [
        {
          "output_type": "error",
          "ename": "NameError",
          "evalue": "ignored",
          "traceback": [
            "\u001b[0;31m---------------------------------------------------------------------------\u001b[0m",
            "\u001b[0;31mNameError\u001b[0m                                 Traceback (most recent call last)",
            "\u001b[0;32m<ipython-input-4-39b0e3c87840>\u001b[0m in \u001b[0;36m<cell line: 2>\u001b[0;34m()\u001b[0m\n\u001b[1;32m      1\u001b[0m \u001b[0;31m# 매개변수 변화에 따른 학습데이터와 테스트데이터에 대한 정확도 변화 시각화\u001b[0m\u001b[0;34m\u001b[0m\u001b[0;34m\u001b[0m\u001b[0m\n\u001b[0;32m----> 2\u001b[0;31m \u001b[0mplt\u001b[0m\u001b[0;34m.\u001b[0m\u001b[0mtitle\u001b[0m\u001b[0;34m(\u001b[0m\u001b[0;34m'DecisionTreeClassifier Scores by max_depth'\u001b[0m\u001b[0;34m)\u001b[0m\u001b[0;34m\u001b[0m\u001b[0;34m\u001b[0m\u001b[0m\n\u001b[0m\u001b[1;32m      3\u001b[0m \u001b[0mplt\u001b[0m\u001b[0;34m.\u001b[0m\u001b[0mplot\u001b[0m\u001b[0;34m(\u001b[0m\u001b[0mmax_depth\u001b[0m\u001b[0;34m,\u001b[0m \u001b[0mtrain_scores\u001b[0m\u001b[0;34m,\u001b[0m \u001b[0mlabel\u001b[0m\u001b[0;34m=\u001b[0m\u001b[0;34m'Train'\u001b[0m\u001b[0;34m,\u001b[0m\u001b[0mlinewidth\u001b[0m\u001b[0;34m=\u001b[0m\u001b[0;36m2\u001b[0m\u001b[0;34m,\u001b[0m \u001b[0mmarker\u001b[0m\u001b[0;34m=\u001b[0m\u001b[0;34m'o'\u001b[0m\u001b[0;34m)\u001b[0m\u001b[0;34m\u001b[0m\u001b[0;34m\u001b[0m\u001b[0m\n\u001b[1;32m      4\u001b[0m \u001b[0mplt\u001b[0m\u001b[0;34m.\u001b[0m\u001b[0mplot\u001b[0m\u001b[0;34m(\u001b[0m\u001b[0mmax_depth\u001b[0m\u001b[0;34m,\u001b[0m \u001b[0mtest_scores\u001b[0m\u001b[0;34m,\u001b[0m \u001b[0mlabel\u001b[0m\u001b[0;34m=\u001b[0m\u001b[0;34m'Test'\u001b[0m\u001b[0;34m,\u001b[0m\u001b[0mlinewidth\u001b[0m\u001b[0;34m=\u001b[0m\u001b[0;36m2\u001b[0m\u001b[0;34m,\u001b[0m \u001b[0mmarker\u001b[0m\u001b[0;34m=\u001b[0m\u001b[0;34m'o'\u001b[0m\u001b[0;34m)\u001b[0m\u001b[0;34m\u001b[0m\u001b[0;34m\u001b[0m\u001b[0m\n\u001b[1;32m      5\u001b[0m \u001b[0mplt\u001b[0m\u001b[0;34m.\u001b[0m\u001b[0mlegend\u001b[0m\u001b[0;34m(\u001b[0m\u001b[0;34m)\u001b[0m\u001b[0;34m\u001b[0m\u001b[0;34m\u001b[0m\u001b[0m\n",
            "\u001b[0;31mNameError\u001b[0m: name 'plt' is not defined"
          ]
        }
      ]
    },
    {
      "cell_type": "code",
      "source": [
        "#  변경할 min_samples_split \n",
        "min_samples_split =[2,3,4,5,6,7,8,9,10]\n",
        "\n",
        "# 매개변수에 따른 학습데이터 셋, 테스트 데이터셋에 대한 정확도를 저장하기 위한 변수\n",
        "train_scores = []\n",
        "test_scores = []\n",
        "\n",
        "for i in min_samples_split:\n",
        "    # min_samples_split 변경하여 모델 생성\n",
        "    tuned_tree = DecisionTreeClassifier(random_state=42, min_samples_split = i)\n",
        "\n",
        "    # 생성한 tree 객체를 학습용 데이터를 사용하여 학습\n",
        "    tuned_tree.fit(X_train, y_train)\n",
        "\n",
        "    # 학습데이터 셋, 테스트 데이터셋에 대한 정확도를 저장\n",
        "    train_scores.append(tuned_tree.score(X_train, y_train))\n",
        "    test_scores.append(tuned_tree.score(X_test, y_test))\n",
        "    \n",
        "    # 정확도 출력\n",
        "    print(\"min_samples_split = {}, train 세트 정확도: {:.3f}, test 세트 정확도: {:.3f}\".\\\n",
        "          format(i, train_scores[i-2], test_scores[i-2]))"
      ],
      "metadata": {
        "id": "EsiF5Eh4WX2N",
        "colab": {
          "base_uri": "https://localhost:8080/",
          "height": 247
        },
        "outputId": "c72dfcfb-7b67-4912-ded1-8d1b7b743c13"
      },
      "execution_count": 5,
      "outputs": [
        {
          "output_type": "error",
          "ename": "NameError",
          "evalue": "ignored",
          "traceback": [
            "\u001b[0;31m---------------------------------------------------------------------------\u001b[0m",
            "\u001b[0;31mNameError\u001b[0m                                 Traceback (most recent call last)",
            "\u001b[0;32m<ipython-input-5-2209861fc98c>\u001b[0m in \u001b[0;36m<cell line: 8>\u001b[0;34m()\u001b[0m\n\u001b[1;32m      8\u001b[0m \u001b[0;32mfor\u001b[0m \u001b[0mi\u001b[0m \u001b[0;32min\u001b[0m \u001b[0mmin_samples_split\u001b[0m\u001b[0;34m:\u001b[0m\u001b[0;34m\u001b[0m\u001b[0;34m\u001b[0m\u001b[0m\n\u001b[1;32m      9\u001b[0m     \u001b[0;31m# min_samples_split 변경하여 모델 생성\u001b[0m\u001b[0;34m\u001b[0m\u001b[0;34m\u001b[0m\u001b[0m\n\u001b[0;32m---> 10\u001b[0;31m     \u001b[0mtuned_tree\u001b[0m \u001b[0;34m=\u001b[0m \u001b[0mDecisionTreeClassifier\u001b[0m\u001b[0;34m(\u001b[0m\u001b[0mrandom_state\u001b[0m\u001b[0;34m=\u001b[0m\u001b[0;36m42\u001b[0m\u001b[0;34m,\u001b[0m \u001b[0mmin_samples_split\u001b[0m \u001b[0;34m=\u001b[0m \u001b[0mi\u001b[0m\u001b[0;34m)\u001b[0m\u001b[0;34m\u001b[0m\u001b[0;34m\u001b[0m\u001b[0m\n\u001b[0m\u001b[1;32m     11\u001b[0m \u001b[0;34m\u001b[0m\u001b[0m\n\u001b[1;32m     12\u001b[0m     \u001b[0;31m# 생성한 tree 객체를 학습용 데이터를 사용하여 학습\u001b[0m\u001b[0;34m\u001b[0m\u001b[0;34m\u001b[0m\u001b[0m\n",
            "\u001b[0;31mNameError\u001b[0m: name 'DecisionTreeClassifier' is not defined"
          ]
        }
      ]
    },
    {
      "cell_type": "code",
      "source": [
        "# 매개변수 변화에 따른 학습데이터와 테스트데이터에 대한 정확도 변화 시각화\n",
        "plt.title('DecisionTreeClassifier Scores by min_samples_split')\n",
        "plt.plot(min_samples_split, train_scores, label='Train',linewidth=2, marker='o')\n",
        "plt.plot(min_samples_split, test_scores, label='Test',linewidth=2, marker='o')\n",
        "plt.legend()"
      ],
      "metadata": {
        "id": "XhZzbnS7WeWR"
      },
      "execution_count": null,
      "outputs": []
    },
    {
      "cell_type": "code",
      "source": [
        "#  변경할 min_samples_leaf \n",
        "min_samples_leaf=[1,2,3,4,5,6,7,8,9,10]\n",
        "\n",
        "# 매개변수에 따른 학습데이터 셋, 테스트 데이터셋에 대한 정확도를 저장하기 위한 변수\n",
        "train_scores = []\n",
        "test_scores = []\n",
        "\n",
        "for i in min_samples_leaf:\n",
        "    # min_samples_leaf 변경하여 모델 생성\n",
        "    tuned_tree = DecisionTreeClassifier(random_state=42, min_samples_leaf = i)\n",
        "\n",
        "    # 생성한 tree 객체를 학습용 데이터를 사용하여 학습\n",
        "    tuned_tree.fit(X_train, y_train)\n",
        "\n",
        "    # 학습데이터 셋, 테스트 데이터셋에 대한 정확도를 저장\n",
        "    train_scores.append(tuned_tree.score(X_train, y_train))\n",
        "    test_scores.append(tuned_tree.score(X_test, y_test))\n",
        "    \n",
        "    # 정확도 출력\n",
        "    print(\"min_samples_leaf = {}, train 세트 정확도: {:.3f}, test 세트 정확도: {:.3f}\".\\\n",
        "          format(i, train_scores[i-1], test_scores[i-1]))"
      ],
      "metadata": {
        "id": "2tWhCt1KWmyG"
      },
      "execution_count": null,
      "outputs": []
    },
    {
      "cell_type": "code",
      "source": [
        "# 매개변수 변화에 따른 학습데이터와 테스트데이터에 대한 정확도 변화 시각화\n",
        "plt.title('DecisionTreeClassifier Scores by min_samples_leaf')\n",
        "plt.plot(min_samples_leaf, train_scores, label='Train',linewidth=2, marker='o')\n",
        "plt.plot(min_samples_leaf, test_scores, label='Test',linewidth=2, marker='o')\n",
        "plt.legend()"
      ],
      "metadata": {
        "id": "VOQRPW43Wojs"
      },
      "execution_count": null,
      "outputs": []
    },
    {
      "cell_type": "code",
      "source": [
        "#  변경할 max_features, 선언된 변수에서 10을 나눠주어 비율로 설정\n",
        "max_features=[1,2,3,4,5,6,7,8,9,10]\n",
        "\n",
        "# 매개변수에 따른 학습데이터 셋, 테스트 데이터셋에 대한 정확도를 저장하기 위한 변수\n",
        "train_scores = []\n",
        "test_scores = []\n",
        "\n",
        "for i in max_features:\n",
        "    # max_features 변경하여 모델 생성\n",
        "    tuned_tree = DecisionTreeClassifier(random_state=42, max_features = i/10)\n",
        "\n",
        "    # 생성한 tree 객체를 학습용 데이터를 사용하여 학습\n",
        "    tuned_tree.fit(X_train, y_train)\n",
        "\n",
        "    # 학습데이터 셋, 테스트 데이터셋에 대한 정확도를 저장\n",
        "    train_scores.append(tuned_tree.score(X_train, y_train))\n",
        "    test_scores.append(tuned_tree.score(X_test, y_test))\n",
        "    \n",
        "    # 정확도 출력\n",
        "    print(\"max_features = {}, train 세트 정확도: {:.3f}, test 세트 정확도: {:.3f}\".\\\n",
        "          format(i/10, train_scores[i-1], test_scores[i-1]))"
      ],
      "metadata": {
        "id": "-eF49cvZWvA2"
      },
      "execution_count": null,
      "outputs": []
    },
    {
      "cell_type": "code",
      "source": [
        "# 매개변수 변화에 따른 학습데이터와 테스트데이터에 대한 정확도 변화 시각화\n",
        "plt.title('DecisionTreeClassifier Scores by max_features')\n",
        "plt.plot(max_features, train_scores, label='Train',linewidth=2, marker='o')\n",
        "plt.plot(max_features, test_scores, label='Test',linewidth=2, marker='o')\n",
        "plt.legend()"
      ],
      "metadata": {
        "id": "trD9I91BWxF-",
        "colab": {
          "base_uri": "https://localhost:8080/",
          "height": 247
        },
        "outputId": "62844762-b5e7-40c4-f82d-440b4d8ce6c4"
      },
      "execution_count": 6,
      "outputs": [
        {
          "output_type": "error",
          "ename": "NameError",
          "evalue": "ignored",
          "traceback": [
            "\u001b[0;31m---------------------------------------------------------------------------\u001b[0m",
            "\u001b[0;31mNameError\u001b[0m                                 Traceback (most recent call last)",
            "\u001b[0;32m<ipython-input-6-381e64eb8105>\u001b[0m in \u001b[0;36m<cell line: 2>\u001b[0;34m()\u001b[0m\n\u001b[1;32m      1\u001b[0m \u001b[0;31m# 매개변수 변화에 따른 학습데이터와 테스트데이터에 대한 정확도 변화 시각화\u001b[0m\u001b[0;34m\u001b[0m\u001b[0;34m\u001b[0m\u001b[0m\n\u001b[0;32m----> 2\u001b[0;31m \u001b[0mplt\u001b[0m\u001b[0;34m.\u001b[0m\u001b[0mtitle\u001b[0m\u001b[0;34m(\u001b[0m\u001b[0;34m'DecisionTreeClassifier Scores by max_features'\u001b[0m\u001b[0;34m)\u001b[0m\u001b[0;34m\u001b[0m\u001b[0;34m\u001b[0m\u001b[0m\n\u001b[0m\u001b[1;32m      3\u001b[0m \u001b[0mplt\u001b[0m\u001b[0;34m.\u001b[0m\u001b[0mplot\u001b[0m\u001b[0;34m(\u001b[0m\u001b[0mmax_features\u001b[0m\u001b[0;34m,\u001b[0m \u001b[0mtrain_scores\u001b[0m\u001b[0;34m,\u001b[0m \u001b[0mlabel\u001b[0m\u001b[0;34m=\u001b[0m\u001b[0;34m'Train'\u001b[0m\u001b[0;34m,\u001b[0m\u001b[0mlinewidth\u001b[0m\u001b[0;34m=\u001b[0m\u001b[0;36m2\u001b[0m\u001b[0;34m,\u001b[0m \u001b[0mmarker\u001b[0m\u001b[0;34m=\u001b[0m\u001b[0;34m'o'\u001b[0m\u001b[0;34m)\u001b[0m\u001b[0;34m\u001b[0m\u001b[0;34m\u001b[0m\u001b[0m\n\u001b[1;32m      4\u001b[0m \u001b[0mplt\u001b[0m\u001b[0;34m.\u001b[0m\u001b[0mplot\u001b[0m\u001b[0;34m(\u001b[0m\u001b[0mmax_features\u001b[0m\u001b[0;34m,\u001b[0m \u001b[0mtest_scores\u001b[0m\u001b[0;34m,\u001b[0m \u001b[0mlabel\u001b[0m\u001b[0;34m=\u001b[0m\u001b[0;34m'Test'\u001b[0m\u001b[0;34m,\u001b[0m\u001b[0mlinewidth\u001b[0m\u001b[0;34m=\u001b[0m\u001b[0;36m2\u001b[0m\u001b[0;34m,\u001b[0m \u001b[0mmarker\u001b[0m\u001b[0;34m=\u001b[0m\u001b[0;34m'o'\u001b[0m\u001b[0;34m)\u001b[0m\u001b[0;34m\u001b[0m\u001b[0;34m\u001b[0m\u001b[0m\n\u001b[1;32m      5\u001b[0m \u001b[0mplt\u001b[0m\u001b[0;34m.\u001b[0m\u001b[0mlegend\u001b[0m\u001b[0;34m(\u001b[0m\u001b[0;34m)\u001b[0m\u001b[0;34m\u001b[0m\u001b[0;34m\u001b[0m\u001b[0m\n",
            "\u001b[0;31mNameError\u001b[0m: name 'plt' is not defined"
          ]
        }
      ]
    },
    {
      "cell_type": "code",
      "source": [
        "#  변경할 max_leaf_nodes\n",
        "max_leaf_nodes=[2,3,4,5,6,7,8,9,10]\n",
        "\n",
        "# 매개변수에 따른 학습데이터 셋, 테스트 데이터셋에 대한 정확도를 저장하기 위한 변수\n",
        "train_scores = []\n",
        "test_scores = []\n",
        "\n",
        "for i in max_leaf_nodes:\n",
        "    # max_features 변경하여 모델 생성\n",
        "    tuned_tree = DecisionTreeClassifier(random_state=42, max_leaf_nodes = i)\n",
        "\n",
        "    # 생성한 tree 객체를 학습용 데이터를 사용하여 학습\n",
        "    tuned_tree.fit(X_train, y_train)\n",
        "\n",
        "    # 학습데이터 셋, 테스트 데이터셋에 대한 정확도를 저장\n",
        "    train_scores.append(tuned_tree.score(X_train, y_train))\n",
        "    test_scores.append(tuned_tree.score(X_test, y_test))\n",
        "    \n",
        "    # 정확도 출력\n",
        "    print(\"max_leaf_nodes = {}, train 세트 정확도: {:.3f}, test 세트 정확도: {:.3f}\".\\\n",
        "          format(i, train_scores[i-2], test_scores[i-2]))"
      ],
      "metadata": {
        "id": "DrPG7Gc6W376"
      },
      "execution_count": null,
      "outputs": []
    },
    {
      "cell_type": "code",
      "source": [
        "# 매개변수 변화에 따른 학습데이터와 테스트데이터에 대한 정확도 변화 시각화\n",
        "plt.title('DecisionTreeClassifier Scores by max_leaf_nodes')\n",
        "plt.plot(max_leaf_nodes, train_scores, label='Train',linewidth=2, marker='o')\n",
        "plt.plot(max_leaf_nodes, test_scores, label='Test',linewidth=2, marker='o')\n",
        "plt.legend()"
      ],
      "metadata": {
        "id": "UtdYjkrqW5ax"
      },
      "execution_count": null,
      "outputs": []
    },
    {
      "cell_type": "code",
      "source": [
        "#  변경할 C \n",
        "C=[1.0, 2.0, 3.0, 4.0, 5.0]\n",
        "\n",
        "# 매개변수에 따른 학습데이터 셋, 테스트 데이터셋에 대한 정확도를 저장하기 위한 변수\n",
        "train_scores = []\n",
        "test_scores = []\n",
        "\n",
        "for i in C:\n",
        "    # C를 변경하여 모델 생성\n",
        "    tuned_svc = SVC(C = i)\n",
        "\n",
        "    # 생성한 SVC 객체를 학습용 데이터를 사용하여 학습\n",
        "    tuned_svc.fit(X_train, y_train)\n",
        "\n",
        "    # 학습데이터 셋, 테스트 데이터셋에 대한 정확도를 저장\n",
        "    train_scores.append(tuned_svc.score(X_train, y_train))\n",
        "    test_scores.append(tuned_svc.score(X_test, y_test))\n",
        "    \n",
        "    # 정확도 출력\n",
        "    print(\"C = {}, train 세트 정확도: {:.3f}, test 세트 정확도: {:.3f}\".\\\n",
        "          format(i, train_scores[int(i)-1], test_scores[int(i)-1]))"
      ],
      "metadata": {
        "id": "ZMqca_XFPjeK"
      },
      "execution_count": null,
      "outputs": []
    },
    {
      "cell_type": "code",
      "source": [
        "# 매개변수 변화에 따른 학습데이터와 테스트데이터에 대한 정확도 변화 시각화\n",
        "plt.title('SVC Scores by C')\n",
        "plt.plot(C, train_scores, label='Train',linewidth=2, marker='o')\n",
        "plt.plot(C, test_scores, label='Test',linewidth=2, marker='o')\n",
        "plt.legend()"
      ],
      "metadata": {
        "id": "GZeMn1Q5N0np"
      },
      "execution_count": null,
      "outputs": []
    },
    {
      "cell_type": "markdown",
      "source": [
        "#### 4.2.2 kernel\n",
        "-----"
      ],
      "metadata": {
        "id": "H-AvTaqmViq_"
      }
    },
    {
      "cell_type": "code",
      "source": [
        "#  변경할 kernel\n",
        "kernel=['linear', 'poly', 'rbf', 'sigmoid']\n",
        "\n",
        "# 매개변수에 따른 학습데이터 셋, 테스트 데이터셋에 대한 정확도를 저장하기 위한 변수\n",
        "train_scores = []\n",
        "test_scores = []\n",
        "\n",
        "for i in kernel:\n",
        "    # kernel를 변경하여 모델 생성\n",
        "    tuned_svc = SVC(kernel = i)\n",
        "\n",
        "    # 생성한 SVC 객체를 학습용 데이터를 사용하여 학습\n",
        "    tuned_svc.fit(X_train, y_train)\n",
        "\n",
        "    # 학습데이터 셋, 테스트 데이터셋에 대한 정확도를 저장\n",
        "    train_scores.append(tuned_svc.score(X_train, y_train))\n",
        "    test_scores.append(tuned_svc.score(X_test, y_test))\n",
        "    \n",
        "    # 정확도 출력\n",
        "    print(\"C = {}, train 세트 정확도: {:.3f}, test 세트 정확도: {:.3f}\".\\\n",
        "          format(i, tuned_svc.score(X_train, y_train), tuned_svc.score(X_test, y_test)))"
      ],
      "metadata": {
        "id": "-QoEvfq9N0lF"
      },
      "execution_count": null,
      "outputs": []
    },
    {
      "cell_type": "code",
      "source": [
        "# 매개변수 변화에 따른 학습데이터와 테스트데이터에 대한 정확도 변화 시각화\n",
        "plt.title('SVC Scores by kernel')\n",
        "index = np.arange(len(kernel))\n",
        "bar_width = 0.35\n",
        "plt.bar(index, train_scores, bar_width, label='Train')\n",
        "plt.bar(index + bar_width, test_scores, bar_width, label='Test')\n",
        "plt.xticks(index+ bar_width/2, kernel)\n",
        "plt.legend()"
      ],
      "metadata": {
        "id": "FjmJfG-DN0bC"
      },
      "execution_count": null,
      "outputs": []
    },
    {
      "cell_type": "markdown",
      "source": [
        "### 4.3 GridSearchCV - DecisionTree\n",
        "---\n",
        "cross_validate를 사용하여 기존의 학습데이터(X_train, y_train)를 3등분하여 학습데이터와 검증용 데이터의 역할을 번갈아 수행하는 교차검증을 진행합니다."
      ],
      "metadata": {
        "id": "zJHmyhDtaCUR"
      }
    },
    {
      "cell_type": "code",
      "source": [
        "# cross_validate 라이브러리 불러오기\n",
        "from sklearn.model_selection import cross_validate\n",
        "\n",
        "# cross_validate를 사용하여 모델의 교차 검증\n",
        "scores = cross_validate(tree, X_train, y_train, cv=3, return_estimator=True)\n",
        "\n",
        "# cross_validate 결과 확인\n",
        "scores"
      ],
      "metadata": {
        "id": "6nl--WB2aSw-",
        "colab": {
          "base_uri": "https://localhost:8080/",
          "height": 247
        },
        "outputId": "1fd07489-120b-4b37-d082-d1b099905e99"
      },
      "execution_count": 7,
      "outputs": [
        {
          "output_type": "error",
          "ename": "NameError",
          "evalue": "ignored",
          "traceback": [
            "\u001b[0;31m---------------------------------------------------------------------------\u001b[0m",
            "\u001b[0;31mNameError\u001b[0m                                 Traceback (most recent call last)",
            "\u001b[0;32m<ipython-input-7-3397fc757239>\u001b[0m in \u001b[0;36m<cell line: 5>\u001b[0;34m()\u001b[0m\n\u001b[1;32m      3\u001b[0m \u001b[0;34m\u001b[0m\u001b[0m\n\u001b[1;32m      4\u001b[0m \u001b[0;31m# cross_validate를 사용하여 모델의 교차 검증\u001b[0m\u001b[0;34m\u001b[0m\u001b[0;34m\u001b[0m\u001b[0m\n\u001b[0;32m----> 5\u001b[0;31m \u001b[0mscores\u001b[0m \u001b[0;34m=\u001b[0m \u001b[0mcross_validate\u001b[0m\u001b[0;34m(\u001b[0m\u001b[0mtree\u001b[0m\u001b[0;34m,\u001b[0m \u001b[0mX_train\u001b[0m\u001b[0;34m,\u001b[0m \u001b[0my_train\u001b[0m\u001b[0;34m,\u001b[0m \u001b[0mcv\u001b[0m\u001b[0;34m=\u001b[0m\u001b[0;36m3\u001b[0m\u001b[0;34m,\u001b[0m \u001b[0mreturn_estimator\u001b[0m\u001b[0;34m=\u001b[0m\u001b[0;32mTrue\u001b[0m\u001b[0;34m)\u001b[0m\u001b[0;34m\u001b[0m\u001b[0;34m\u001b[0m\u001b[0m\n\u001b[0m\u001b[1;32m      6\u001b[0m \u001b[0;34m\u001b[0m\u001b[0m\n\u001b[1;32m      7\u001b[0m \u001b[0;31m# cross_validate 결과 확인\u001b[0m\u001b[0;34m\u001b[0m\u001b[0;34m\u001b[0m\u001b[0m\n",
            "\u001b[0;31mNameError\u001b[0m: name 'tree' is not defined"
          ]
        }
      ]
    },
    {
      "cell_type": "code",
      "source": [
        "# 3개의 분류기 평가\n",
        "for i in range(3):     \n",
        "    score = scores['estimator'][i].score(X_test, y_test)\n",
        "    print('{0}번째 의사결정나무 정확도: {1:.2f}'.format(i+1, score))"
      ],
      "metadata": {
        "id": "26FDXRkYaUsa"
      },
      "execution_count": null,
      "outputs": []
    },
    {
      "cell_type": "code",
      "source": [
        "from sklearn.model_selection import GridSearchCV\n",
        "\n",
        "# 변경하여 설정할 매개변수의 항목을 딕셔너리 형태로 정의\n",
        "param = {'max_depth':[1,2,3], 'min_samples_split':[2,3]}\n",
        "\n",
        "# GridSearchCV 객체 선언, 교차검증 3회 수행\n",
        "grid_trees = GridSearchCV(tree, param_grid=param, cv=3)\n",
        "\n",
        "# 학습 - param_grid의 하이퍼파라미터들을 순차적으로 학습\n",
        "grid_trees.fit(X_train, y_train)\n",
        "\n",
        "# 학습 결과 - GridSearchCV 결과 추출하여 DataFrame으로 변환\n",
        "scores_df = pd.DataFrame(grid_trees.cv_results_)\n",
        "\n",
        "# 학습결과를 담은 데이터프레임의 6번째 컬럼 이후부터 출력\n",
        "scores_df.iloc[:, 6:]"
      ],
      "metadata": {
        "id": "t8TXerDqagK6"
      },
      "execution_count": null,
      "outputs": []
    },
    {
      "cell_type": "code",
      "source": [
        "# 최적 estimator\n",
        "grid_trees.best_estimator_"
      ],
      "metadata": {
        "id": "yw1McjBxar8y"
      },
      "execution_count": null,
      "outputs": []
    },
    {
      "cell_type": "code",
      "source": [
        "# 최적 매개변수\n",
        "grid_trees.best_params_"
      ],
      "metadata": {
        "id": "kSHAGa1Oax7e"
      },
      "execution_count": null,
      "outputs": []
    },
    {
      "cell_type": "code",
      "source": [
        "# 최적 estimator의 성능\n",
        "grid_trees.best_score_"
      ],
      "metadata": {
        "id": "tGIQEto6azRx"
      },
      "execution_count": null,
      "outputs": []
    },
    {
      "cell_type": "code",
      "source": [
        "# 생성한 tree 객체를 학습용 데이터를 사용하여 학습\n",
        "grid_tree = grid_trees.best_estimator_ \n",
        "grid_trees.best_estimator_.fit(X_train, y_train)\n",
        "\n",
        "# 학습용 데이터 셋의 정확도\n",
        "print(\"train 세트 정확도: {:.3f}\".format(grid_tree.score(X_train, y_train)))\n",
        "\n",
        "# 테스트용 데이터 셋의 정확도\n",
        "print(\"test 세트 정확도: {:.3f}\".format(grid_tree.score(X_test, y_test)))"
      ],
      "metadata": {
        "id": "p0xAMM-Va062"
      },
      "execution_count": null,
      "outputs": []
    },
    {
      "cell_type": "code",
      "source": [
        "# 파라미터\n",
        "param = {'C':[1.0, 2.0, 3.0, 4.0, 5.0], 'kernel':['linear', 'poly', 'rbf', 'sigmoid']}\n",
        "\n",
        "# 학습 - param_grid의 하이퍼파라미터들을 순차적으로 학습\n",
        "grid_classifier = GridSearchCV(classifier, param_grid=param, cv=3)\n",
        "grid_classifier.fit(X_train, y_train)\n",
        "\n",
        "# 학습 결과 - GridSearchCV 결과 추출하여 DataFrame으로 변환\n",
        "scores_svm_df = pd.DataFrame(grid_classifier.cv_results_)\n",
        "\n",
        "# 학습결과를 담은 데이터프레임의 6번째 컬럼 이후부터 출력\n",
        "scores_svm_df.iloc[:, 6:]"
      ],
      "metadata": {
        "id": "aze9KK9tbsxh"
      },
      "execution_count": null,
      "outputs": []
    },
    {
      "cell_type": "code",
      "source": [
        "# 생성한 tree 객체를 학습용 데이터를 사용하여 학습\n",
        "svm_grid = grid_classifier.best_estimator_\n",
        "svm_grid.fit(X_train, y_train)\n",
        "\n",
        "# 학습용 데이터 셋의 정확도\n",
        "print(\"train 세트 정확도: {:.3f}\".format(svm_grid.score(X_train, y_train)))\n",
        "\n",
        "# 테스트용 데이터 셋의 정확도\n",
        "print(\"test 세트 정확도: {:.3f}\".format(svm_grid.score(X_test, y_test)))"
      ],
      "metadata": {
        "id": "nnRHpmIZb3YZ"
      },
      "execution_count": null,
      "outputs": []
    },
    {
      "cell_type": "code",
      "execution_count": null,
      "metadata": {
        "id": "OeTQDHAzJ5Pb"
      },
      "outputs": [],
      "source": [
        "import pandas as pd \n",
        "from sklearn.model_selection import train_test_split\n",
        "from sklearn.datasets import load_breast_cancer\n",
        "from sklearn.svm import SVC\n",
        "\n",
        "dataset = load_breast_cancer()\n",
        "df = pd.DataFrame(data=dataset.data, columns=dataset.feature_names)\n",
        "df['target'] = dataset.target\n",
        "df.head()"
      ]
    },
    {
      "cell_type": "code",
      "source": [],
      "metadata": {
        "id": "Pjwb0MIJMNHF"
      },
      "execution_count": null,
      "outputs": []
    }
  ]
}