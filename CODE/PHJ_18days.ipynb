{
  "nbformat": 4,
  "nbformat_minor": 0,
  "metadata": {
    "colab": {
      "private_outputs": true,
      "provenance": [],
      "include_colab_link": true
    },
    "kernelspec": {
      "name": "python3",
      "display_name": "Python 3"
    },
    "language_info": {
      "name": "python"
    }
  },
  "cells": [
    {
      "cell_type": "markdown",
      "metadata": {
        "id": "view-in-github",
        "colab_type": "text"
      },
      "source": [
        "<a href=\"https://colab.research.google.com/github/PARKHYOUNJUNG/phj_lms23/blob/main/CODE/PHJ_18days.ipynb\" target=\"_parent\"><img src=\"https://colab.research.google.com/assets/colab-badge.svg\" alt=\"Open In Colab\"/></a>"
      ]
    },
    {
      "cell_type": "code",
      "execution_count": null,
      "metadata": {
        "id": "uPrXSTfLuLF7"
      },
      "outputs": [],
      "source": [
        "from bs4 import BeautifulSoup\n",
        "import requests\n",
        "import pandas as pd\n",
        "import datetime\n",
        "\n",
        "title_list = []\n",
        "url_list = []\n",
        "article_list = []\n",
        "date_list = []\n",
        "\n",
        "for i in range(7):\n",
        "    date= datetime.date.today() - datetime.timedelta(days = i)\n",
        "    url = f'https://finance.naver.com/news/mainnews.naver?date={date}'\n",
        "    response = requests.get(url)\n",
        "    soup = BeautifulSoup(response.text, 'lxml')\n",
        "\n",
        "    titles = soup.find_all('dd', {'class': 'articleSubject'})\n",
        "    for t in titles:  \n",
        "        title = t.text.strip()\n",
        "        url = t.find('a').get('href')\n",
        "        response = requests.get('https://finance.naver.com/' + url) # 상세 기사 페이지\n",
        "        soup = BeautifulSoup(response.text, 'lxml')\n",
        "        article = soup.find('div', {'class': 'articleCont'})\n",
        "        \n",
        "        title_list.append(title)\n",
        "        url_list.append(url)\n",
        "        if article is not None:\n",
        "            article_list.append(article.text.strip())\n",
        "        else:\n",
        "            article_list.append('')\n",
        "        date_list.append(date)\n",
        "\n",
        "df = pd.DataFrame({'기사제목': title_list, '본문url': url_list, '기사본문': article_list, '날짜': date_list})\n",
        "df.to_csv('article.csv', encoding = 'euc-kr')"
      ]
    },
    {
      "cell_type": "code",
      "source": [
        "df.head()"
      ],
      "metadata": {
        "id": "XFyWl4ulqPgh"
      },
      "execution_count": null,
      "outputs": []
    },
    {
      "cell_type": "code",
      "source": [
        "#워드 클라우드 한글폰트 설정\n",
        "!sudo apt-get install -y fonts-nanum"
      ],
      "metadata": {
        "id": "UKnJkgvpuke3"
      },
      "execution_count": null,
      "outputs": []
    },
    {
      "cell_type": "code",
      "source": [
        "!pip install konlpy"
      ],
      "metadata": {
        "id": "yh_58iDkbcz1"
      },
      "execution_count": null,
      "outputs": []
    },
    {
      "cell_type": "code",
      "source": [
        "#konlpy 설치\n",
        "from konlpy.tag import Kkma"
      ],
      "metadata": {
        "id": "DrlpzG7VbOgk"
      },
      "execution_count": null,
      "outputs": []
    },
    {
      "cell_type": "code",
      "source": [
        "import matplotlib.pyplot as plt\n",
        "from collections import Counter\n",
        "article_a = df['기사본문']\n",
        "article=''\n",
        "article=article.join(article_a)\n",
        "article\n",
        "kkma = Kkma()\n",
        "tokens = kkma.nouns(article)"
      ],
      "metadata": {
        "id": "--RhdqspbZ5b"
      },
      "execution_count": null,
      "outputs": []
    },
    {
      "cell_type": "code",
      "source": [
        "counted_tokens = Counter(tokens)\n",
        "counted_tokens\n",
        "len(tokens)\n",
        "top_50 = counted_tokens.most_common(50)\n",
        "print(top_50)"
      ],
      "metadata": {
        "id": "0XLz9tmNcQ2i"
      },
      "execution_count": null,
      "outputs": []
    },
    {
      "cell_type": "code",
      "source": [
        "from wordcloud import WordCloud\n",
        "wc = WordCloud(background_color='white', font_path='NanumBarunGothic.ttf')\n",
        "# wc = WordCloud(font_path='NanumBarunGothic.ttf')\n",
        "wc.generate_from_frequencies(counted_tokens)\n",
        "figure = plt.figure()\n",
        "figure.set_size_inches(10, 10)\n",
        "ax = figure.add_subplot(1, 1, 1)\n",
        "ax.axis(\"off\")\n",
        "ax.imshow(wc)"
      ],
      "metadata": {
        "id": "t3nueXO6d5TT"
      },
      "execution_count": null,
      "outputs": []
    },
    {
      "cell_type": "code",
      "source": [
        "wc.generate_from_frequencies(counted_tokens)\n",
        "figure = plt.figure()\n",
        "figure.set_size_inches(10, 10)\n",
        "ax = figure.add_subplot(1, 1, 1)\n",
        "ax.axis(\"off\")\n",
        "ax.imshow(wc)\n",
        "wc.to_file(\"mask-cloud.png\")"
      ],
      "metadata": {
        "id": "doyQYkh_eheJ"
      },
      "execution_count": null,
      "outputs": []
    },
    {
      "cell_type": "code",
      "source": [],
      "metadata": {
        "id": "u-Nnp1Nuex7U"
      },
      "execution_count": null,
      "outputs": []
    }
  ]
}