{
  "nbformat": 4,
  "nbformat_minor": 0,
  "metadata": {
    "colab": {
      "provenance": [],
      "authorship_tag": "ABX9TyOOgW9FDIX25dQFCidA/vpE",
      "include_colab_link": true
    },
    "kernelspec": {
      "name": "python3",
      "display_name": "Python 3"
    },
    "language_info": {
      "name": "python"
    }
  },
  "cells": [
    {
      "cell_type": "markdown",
      "metadata": {
        "id": "view-in-github",
        "colab_type": "text"
      },
      "source": [
        "<a href=\"https://colab.research.google.com/github/PARKHYOUNJUNG/phj_lms23/blob/main/PHJ_2day.ipynb\" target=\"_parent\"><img src=\"https://colab.research.google.com/assets/colab-badge.svg\" alt=\"Open In Colab\"/></a>"
      ]
    },
    {
      "cell_type": "markdown",
      "source": [
        "# 2일차 과제"
      ],
      "metadata": {
        "id": "UXuiPNLiGlsB"
      }
    },
    {
      "cell_type": "markdown",
      "source": [
        "## 문자열"
      ],
      "metadata": {
        "id": "zJ8iXLtwIe6z"
      }
    },
    {
      "cell_type": "markdown",
      "source": [
        "Q1. 홍길동 씨의 주민등록번호는 881120-1068234이다. 홍길동씨의 주민등록번호를 연월일 [YYYYMMDD] 부분과 그 뒤의 숫자 부분으로 나누어 출력해 보자."
      ],
      "metadata": {
        "id": "ziCQe1UIHA9q"
      }
    },
    {
      "cell_type": "code",
      "execution_count": 2,
      "metadata": {
        "colab": {
          "base_uri": "https://localhost:8080/"
        },
        "id": "EvwbOKxHGjcY",
        "outputId": "6988b39c-3754-47c3-9b69-7bab8e7720b5"
      },
      "outputs": [
        {
          "output_type": "stream",
          "name": "stdout",
          "text": [
            "연월일 :  881120\n",
            "뒤의숫자 :  1068234\n"
          ]
        }
      ],
      "source": [
        "pin = \"881120-1068234\"\n",
        "yyyymmdd = pin[:6]\n",
        "num = pin[7:]\n",
        "print(\"연월일 : \", yyyymmdd)\n",
        "print(\"뒤의숫자 : \", num)"
      ]
    },
    {
      "cell_type": "markdown",
      "source": [
        "Q2. 주민등록번호 뒷자리의 맨 첫 번째 숫자는 성별을 나타낸다. 주민등록번호에서 성별을 나타내는 숫자를 출력해 보자"
      ],
      "metadata": {
        "id": "M1WSVO4DIQbS"
      }
    },
    {
      "cell_type": "code",
      "source": [
        "print(\"성별 : \", pin[7])"
      ],
      "metadata": {
        "colab": {
          "base_uri": "https://localhost:8080/"
        },
        "id": "R6iPYc1uHoGj",
        "outputId": "9e657d93-14cb-4335-bd9b-d13992926b98"
      },
      "execution_count": 3,
      "outputs": [
        {
          "output_type": "stream",
          "name": "stdout",
          "text": [
            "성별 :  1\n"
          ]
        }
      ]
    },
    {
      "cell_type": "markdown",
      "source": [
        "## 리스트"
      ],
      "metadata": {
        "id": "Svv-vpyuInSY"
      }
    },
    {
      "cell_type": "markdown",
      "source": [
        "Q1. [1,3,5,4,2]라는 리스트를 [5,4,3,2,1]로 만들어보자"
      ],
      "metadata": {
        "id": "W9eCNZ45Irns"
      }
    },
    {
      "cell_type": "code",
      "source": [
        "list_a = [1,3,5,4,2]\n",
        "list_a.sort(reverse=1)\n",
        "print(list_a)"
      ],
      "metadata": {
        "colab": {
          "base_uri": "https://localhost:8080/"
        },
        "id": "a4pQLJteIcim",
        "outputId": "134dc668-9cb3-4407-b818-cd8c6bfa74d8"
      },
      "execution_count": 7,
      "outputs": [
        {
          "output_type": "stream",
          "name": "stdout",
          "text": [
            "[5, 4, 3, 2, 1]\n"
          ]
        }
      ]
    },
    {
      "cell_type": "markdown",
      "source": [
        "Q2. ['Life','is','too','short']라는 리스트를 Life is too short라는 문자열로 만들어 출력해 보자"
      ],
      "metadata": {
        "id": "LcOe1UxPJMkp"
      }
    },
    {
      "cell_type": "code",
      "source": [
        "list_b = ['Life','is','too','short']\n",
        "result = (list_b[0]+\" \"+list_b[1]+\" \" +list_b[2]+\" \"+list_b[3])\n",
        "print(result)"
      ],
      "metadata": {
        "colab": {
          "base_uri": "https://localhost:8080/"
        },
        "id": "UTIf6b8_JBOJ",
        "outputId": "89fad3dd-d2a5-4ea3-dfbd-8fefdc8ebfd4"
      },
      "execution_count": 19,
      "outputs": [
        {
          "output_type": "stream",
          "name": "stdout",
          "text": [
            "Life is too short\n"
          ]
        }
      ]
    },
    {
      "cell_type": "markdown",
      "source": [
        "# 튜플"
      ],
      "metadata": {
        "id": "JDcU1_yxK8qG"
      }
    },
    {
      "cell_type": "markdown",
      "source": [
        "Q1. (1,2,3)이라는 튜플에 4라는 값을 추가하여 (1,2,3,4)처럼 만들어 출력해 보자"
      ],
      "metadata": {
        "id": "ET2f-XcwLBVd"
      }
    },
    {
      "cell_type": "code",
      "source": [
        "tuple_a = (1,2,3)\n",
        "list_c=list(tuple_a)\n",
        "list_c.append(4)\n",
        "tuple_a=tuple(list_c)\n",
        "print(tuple_a)"
      ],
      "metadata": {
        "colab": {
          "base_uri": "https://localhost:8080/"
        },
        "id": "u4yfEYtGJjrH",
        "outputId": "bec83b62-85d5-41ea-e3ca-d8db9ea67407"
      },
      "execution_count": 20,
      "outputs": [
        {
          "output_type": "stream",
          "name": "stdout",
          "text": [
            "(1, 2, 3, 4)\n"
          ]
        }
      ]
    },
    {
      "cell_type": "markdown",
      "source": [
        "# 딕셔너리"
      ],
      "metadata": {
        "id": "fzHzDjO4LdFI"
      }
    },
    {
      "cell_type": "markdown",
      "source": [
        "Q1. 딕셔너리 a에서 'B'에 해당되는 값을 추출하고 삭제해 보자."
      ],
      "metadata": {
        "id": "q0Hkj5gcLgch"
      }
    },
    {
      "cell_type": "code",
      "source": [
        "dic_a = {'A':90, 'B':80, 'C':70}\n",
        "result=dic_a['B']\n",
        "dic_a.pop('B')\n",
        "print(dic_a)\n",
        "print(result)"
      ],
      "metadata": {
        "colab": {
          "base_uri": "https://localhost:8080/"
        },
        "id": "Sl1EeppRLbYT",
        "outputId": "ac3ad23c-c34a-4aa4-99b3-0a01046ce2dd"
      },
      "execution_count": 27,
      "outputs": [
        {
          "output_type": "stream",
          "name": "stdout",
          "text": [
            "{'A': 90, 'C': 70}\n",
            "80\n"
          ]
        }
      ]
    },
    {
      "cell_type": "markdown",
      "source": [
        "# 세트"
      ],
      "metadata": {
        "id": "vgH_uEfcMqSX"
      }
    },
    {
      "cell_type": "markdown",
      "source": [
        "Q1. a리스트에서 중복된 숫자들을 제거해보자"
      ],
      "metadata": {
        "id": "G9asyW52MvED"
      }
    },
    {
      "cell_type": "code",
      "source": [
        "set_a = [1,1,1,2,2,3,3,3,4,4,5]\n",
        "aSet = set(set_a)\n",
        "b = list(aSet)\n",
        "print(b)"
      ],
      "metadata": {
        "colab": {
          "base_uri": "https://localhost:8080/"
        },
        "id": "EFTaKcYSL3c_",
        "outputId": "f3c56bc3-6f5d-4e9f-aa66-eed3178dc063"
      },
      "execution_count": 29,
      "outputs": [
        {
          "output_type": "stream",
          "name": "stdout",
          "text": [
            "[1, 2, 3, 4, 5]\n"
          ]
        }
      ]
    },
    {
      "cell_type": "markdown",
      "source": [
        "# 변수"
      ],
      "metadata": {
        "id": "Qbd8awQNNGQV"
      }
    },
    {
      "cell_type": "markdown",
      "source": [
        "Q1. 파이썬은 다음처럼 동일한 값에 여러 개의 변수를 선언할 수 있다. 아래와 같이 a, b 변수를 선언한 후 a의 첫 번째 요소값을 변경하면 b의 값은 어떻게 될까? 그리고 이런 결과가 나오는 이유에 대해서 설명해 보자\n",
        "답 : 파이썬에서 여러변수에 하나를 담을경우 각 각 데이터를 저장하는 것이 아니라 b는 a의 주소를 가지고 오는 것임, 결국 a가 변하면 b도 변함.\n",
        "별도 선언 또는 copy() 사용"
      ],
      "metadata": {
        "id": "SnXkejKlNJiq"
      }
    },
    {
      "cell_type": "code",
      "source": [
        "a = b = [1, 2, 3]\n",
        "a[1] = 4\n",
        "print(b)"
      ],
      "metadata": {
        "colab": {
          "base_uri": "https://localhost:8080/"
        },
        "id": "H3nQe7MDM6gW",
        "outputId": "510954da-5457-4366-b9eb-026246e333ed"
      },
      "execution_count": 30,
      "outputs": [
        {
          "output_type": "stream",
          "name": "stdout",
          "text": [
            "[1, 4, 3]\n"
          ]
        }
      ]
    },
    {
      "cell_type": "markdown",
      "source": [
        "Q2.x원을 지불하기 위해서 y원 짜리(또는 z원 짜리) 동전을 몇 개 내야하는지 출력하시오\n",
        "x = 3928\n",
        "y = 500\n",
        "z = 100"
      ],
      "metadata": {
        "id": "HSCnDuerN1ZA"
      }
    },
    {
      "cell_type": "code",
      "source": [
        "x = 3928\n",
        "y = 500\n",
        "z = 100\n",
        "print(str(y) + \"원짜리 동전 8개를 내세요\")\n",
        "print(str(z) + \"원짜리 동전 40개를 내세요\")\n"
      ],
      "metadata": {
        "colab": {
          "base_uri": "https://localhost:8080/"
        },
        "id": "L2dCtCViNStF",
        "outputId": "8dc17986-3c48-443f-dbe6-bb3466bf8265"
      },
      "execution_count": 34,
      "outputs": [
        {
          "output_type": "stream",
          "name": "stdout",
          "text": [
            "500원짜리 동전 8개를 내세요\n",
            "100원짜리 동전 40개를 내세요\n"
          ]
        }
      ]
    },
    {
      "cell_type": "markdown",
      "source": [
        "Q3. 세 수의 평균을 구하시오\n",
        "a = 21.9\n",
        "b = 37\n",
        "c = 13.6"
      ],
      "metadata": {
        "id": "ncPnBSyjPA1E"
      }
    },
    {
      "cell_type": "code",
      "source": [
        "a = 21.9\n",
        "b = 37\n",
        "c = 13.6\n",
        "\n",
        "print((a+b+c)/3)"
      ],
      "metadata": {
        "colab": {
          "base_uri": "https://localhost:8080/"
        },
        "id": "N8bJNeorO21W",
        "outputId": "1e3a6cde-6990-4c95-b655-2a0af1c5f20d"
      },
      "execution_count": 37,
      "outputs": [
        {
          "output_type": "stream",
          "name": "stdout",
          "text": [
            "24.166666666666668\n"
          ]
        }
      ]
    }
  ]
}
