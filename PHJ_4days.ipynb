{
  "nbformat": 4,
  "nbformat_minor": 0,
  "metadata": {
    "colab": {
      "provenance": [],
      "authorship_tag": "ABX9TyNNDDzjkZngajK8X5vq8Qzf",
      "include_colab_link": true
    },
    "kernelspec": {
      "name": "python3",
      "display_name": "Python 3"
    },
    "language_info": {
      "name": "python"
    }
  },
  "cells": [
    {
      "cell_type": "markdown",
      "metadata": {
        "id": "view-in-github",
        "colab_type": "text"
      },
      "source": [
        "<a href=\"https://colab.research.google.com/github/PARKHYOUNJUNG/phj_lms23/blob/main/PHJ_4days.ipynb\" target=\"_parent\"><img src=\"https://colab.research.google.com/assets/colab-badge.svg\" alt=\"Open In Colab\"/></a>"
      ]
    },
    {
      "cell_type": "markdown",
      "source": [
        "# 과제 1\n",
        "다음 리스트 L의 순서를 아래와 같이 변경하시오. (힌트: pop())\n",
        "\n",
        "변경 전\n",
        "\n",
        "[1, 3, 5, 7, 9]\n",
        "변경 후\n",
        "\n",
        "[3, 5, 7, 9, 1]"
      ],
      "metadata": {
        "id": "HYAdyqbDwk7O"
      }
    },
    {
      "cell_type": "code",
      "execution_count": 26,
      "metadata": {
        "colab": {
          "base_uri": "https://localhost:8080/"
        },
        "id": "66MAQGqiwfgF",
        "outputId": "adc6cacf-0356-4889-d753-3b0311bcbe13"
      },
      "outputs": [
        {
          "output_type": "stream",
          "name": "stdout",
          "text": [
            "[3, 5, 7, 9, 1]\n"
          ]
        }
      ],
      "source": [
        "L = [1, 3, 5, 7, 9]\n",
        "L1=L[0]\n",
        "L.pop(0)\n",
        "L.append(L1)\n",
        "print(L)"
      ]
    },
    {
      "cell_type": "markdown",
      "source": [
        "# 과제 2\n",
        "동전 던지기 시도 횟수를 입력 받고 각 시도에서 앞면이 나올 확률을 출력하는 프로그램을 작성하시오.\n",
        "\n",
        "1~10번째 시도까지: 매 시도마다 앞면이 나올 확률을 출력\n",
        "10번째 이후부터: 10의 배수(10, 20, 30,...)마다 앞면이 나올 확률을 출력"
      ],
      "metadata": {
        "id": "VwgkIjcgz7rh"
      }
    },
    {
      "cell_type": "code",
      "source": [
        "import random\n",
        "nc0 = int(input('동전 던지기 시도 횟수를 입력(1 ~ 100) : '))\n",
        "i,j = 0,0\n",
        "while i < nc0:\n",
        "  k=random.randint(0,1)\n",
        "  i=i+1\n",
        "  j=j+k\n",
        "  per=round(j/i*100)\n",
        "  print (str(i) + '번째까지 던지기에서 앞면이 나올 확률 : ' + str(per) + '%')\n",
        "print('*' * 50)\n",
        "print(str(i) + '번째까지 던지기에서 앞면이 나올 확률 : ' + str(per) + '%')"
      ],
      "metadata": {
        "colab": {
          "base_uri": "https://localhost:8080/"
        },
        "id": "_6Snz8aRxb9Q",
        "outputId": "37285917-b9cc-4752-9ea9-d904a324c077"
      },
      "execution_count": 46,
      "outputs": [
        {
          "output_type": "stream",
          "name": "stdout",
          "text": [
            "동전 던지기 시도 횟수를 입력(1 ~ 100) : 25\n",
            "1번째까지 던지기에서 앞면이 나올 확률 : 100%\n",
            "2번째까지 던지기에서 앞면이 나올 확률 : 50%\n",
            "3번째까지 던지기에서 앞면이 나올 확률 : 33%\n",
            "4번째까지 던지기에서 앞면이 나올 확률 : 25%\n",
            "5번째까지 던지기에서 앞면이 나올 확률 : 40%\n",
            "6번째까지 던지기에서 앞면이 나올 확률 : 50%\n",
            "7번째까지 던지기에서 앞면이 나올 확률 : 57%\n",
            "8번째까지 던지기에서 앞면이 나올 확률 : 62%\n",
            "9번째까지 던지기에서 앞면이 나올 확률 : 67%\n",
            "10번째까지 던지기에서 앞면이 나올 확률 : 70%\n",
            "11번째까지 던지기에서 앞면이 나올 확률 : 64%\n",
            "12번째까지 던지기에서 앞면이 나올 확률 : 67%\n",
            "13번째까지 던지기에서 앞면이 나올 확률 : 62%\n",
            "14번째까지 던지기에서 앞면이 나올 확률 : 64%\n",
            "15번째까지 던지기에서 앞면이 나올 확률 : 67%\n",
            "16번째까지 던지기에서 앞면이 나올 확률 : 62%\n",
            "17번째까지 던지기에서 앞면이 나올 확률 : 59%\n",
            "18번째까지 던지기에서 앞면이 나올 확률 : 61%\n",
            "19번째까지 던지기에서 앞면이 나올 확률 : 63%\n",
            "20번째까지 던지기에서 앞면이 나올 확률 : 65%\n",
            "21번째까지 던지기에서 앞면이 나올 확률 : 67%\n",
            "22번째까지 던지기에서 앞면이 나올 확률 : 68%\n",
            "23번째까지 던지기에서 앞면이 나올 확률 : 65%\n",
            "24번째까지 던지기에서 앞면이 나올 확률 : 67%\n",
            "25번째까지 던지기에서 앞면이 나올 확률 : 64%\n",
            "**************************************************\n",
            "25번째까지 던지기에서 앞면이 나올 확률 : 64%\n"
          ]
        }
      ]
    },
    {
      "cell_type": "markdown",
      "source": [
        "# 과제 3\n",
        "수식을 입력받아 연산 결과를 출력하는 코드를 작성하시오.\n",
        "(+, -, *, / 연산자만 허용하고, 그 외의 연산자가 입력되었을 경우, 연산자는 허용하지 않는다는 메시지를 출력"
      ],
      "metadata": {
        "id": "pFNy18tv3PRl"
      }
    },
    {
      "cell_type": "code",
      "source": [
        "sN = input(\"수식 입력(예: 20 * 40) :\")\n",
        "lGu_n=sN.split(' ')\n",
        "fNum0=float(lGu_n[0])\n",
        "fNum1=float(lGu_n[2])\n",
        "sY1=lGu_n[1]\n",
        "if sY1 not in ['*','-','/','+']:\n",
        "  print(sY1,'지원하지 않는 연산자입니다.')\n",
        "elif (sY1 == '/') & (fNum1 == 0):\n",
        "  print(fNum1,'로 나누기를 수행할 수 없습니다.')\n",
        "else:\n",
        "  if sY1 == '+':\n",
        "    fRe=fNum0 + fNum1\n",
        "  elif sY1 == '*':\n",
        "    fRe=fNum0 * fNum1\n",
        "  elif sY1 == '/':\n",
        "    fRe=fNum0 / fNum1\n",
        "  else:\n",
        "    fRe=fNum0 - fNum1\n",
        "  print (fNum0, sY1, fNum1, '=', fRe)"
      ],
      "metadata": {
        "colab": {
          "base_uri": "https://localhost:8080/"
        },
        "id": "8wPkmicD0mgy",
        "outputId": "4f8018b9-fd71-4c2f-ffa3-261a3f9d8a65"
      },
      "execution_count": 65,
      "outputs": [
        {
          "output_type": "stream",
          "name": "stdout",
          "text": [
            "수식 입력(예: 20 * 40) :30 / 0\n",
            "0.0 로 나누기를 수행할 수 없습니다.\n"
          ]
        }
      ]
    },
    {
      "cell_type": "markdown",
      "source": [
        "# 과제 4\n",
        "구하려는 소수의 개수를 입력받아, 입력받은 수만큼의 소수를 구하여 출력하시오."
      ],
      "metadata": {
        "id": "taRYttYP-mmt"
      }
    },
    {
      "cell_type": "code",
      "source": [
        "iN = input(\"구하려는 소수의 개수를 입력:\")\n",
        "i=2\n",
        "j=2\n",
        "if iN < 2:\n",
        "  print('잘못된 숫자를 입력하였습니다.')\n",
        "while j <= iN:\n",
        "  c=0\n",
        "  while i < j:\n",
        "    if c > 1:\n",
        "      break\n",
        "    if j%i==0:\n",
        "      c=c+1\n",
        "    else:\n",
        "  i=i+1\n",
        "\n",
        "  j/i\n"
      ],
      "metadata": {
        "colab": {
          "base_uri": "https://localhost:8080/",
          "height": 136
        },
        "id": "G7bqZkEm0nCh",
        "outputId": "84192a42-caf8-4e05-ee5b-2de939fb88d0"
      },
      "execution_count": 66,
      "outputs": [
        {
          "output_type": "error",
          "ename": "IndentationError",
          "evalue": "ignored",
          "traceback": [
            "\u001b[0;36m  File \u001b[0;32m\"<ipython-input-66-c81b2b14e9e3>\"\u001b[0;36m, line \u001b[0;32m14\u001b[0m\n\u001b[0;31m    i=i+1\u001b[0m\n\u001b[0m    ^\u001b[0m\n\u001b[0;31mIndentationError\u001b[0m\u001b[0;31m:\u001b[0m expected an indented block\n"
          ]
        }
      ]
    },
    {
      "cell_type": "code",
      "source": [
        "ip=int(input(\"구하려는 소수의 개수를 입력:\"))\n",
        "j=2\n",
        "n=0\n",
        "while n < ip: # 개수 비교\n",
        "  c=0\n",
        "  i=2\n",
        "  while i < j:  # 소수찾기\n",
        "    if j % i == 0:\n",
        "      c=1\n",
        "      break\n",
        "    else:\n",
        "      i=i+1\n",
        "  if c==0:\n",
        "    print(j)\n",
        "    n=n+1\n",
        "  else:\n",
        "    pass\n",
        "  j=j+1\n",
        "print(n,'개의 소수를 찾았습니다.')\n",
        "  "
      ],
      "metadata": {
        "colab": {
          "base_uri": "https://localhost:8080/"
        },
        "id": "wsE59QnqCpnC",
        "outputId": "5c03c87f-111a-4c54-f2b2-82fcb169f27b"
      },
      "execution_count": 81,
      "outputs": [
        {
          "output_type": "stream",
          "name": "stdout",
          "text": [
            "구하려는 소수의 개수를 입력:11\n",
            "2\n",
            "3\n",
            "5\n",
            "7\n",
            "11\n",
            "13\n",
            "17\n",
            "19\n",
            "23\n",
            "29\n",
            "31\n",
            "11 개의 소수를 찾았습니다.\n"
          ]
        }
      ]
    },
    {
      "cell_type": "code",
      "source": [],
      "metadata": {
        "id": "IfNXIOYJEPM_"
      },
      "execution_count": null,
      "outputs": []
    }
  ]
}